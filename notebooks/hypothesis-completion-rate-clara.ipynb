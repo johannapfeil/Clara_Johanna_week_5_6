{
 "cells": [
  {
   "cell_type": "markdown",
   "id": "1d69e5e6-3ca1-4710-9f97-faba5d78d5b5",
   "metadata": {},
   "source": [
    "# Hypothesis testing: Completion Rate\n",
    "The goal is to determine if the difference in completion rates between the Test (new design) and Control (old design) groups is statistically significant. This will help confirm if the redesign has had a meaningful impact on the completion rate."
   ]
  },
  {
   "cell_type": "markdown",
   "id": "cef18f70-f977-4391-a35d-37ca0485bd43",
   "metadata": {},
   "source": [
    "## Completion Hypothesis:\n",
    "#### Null hypothesis (H₀): The new design does not lead to a higher completion rate than the old design.\n",
    "#### Alternative hypothesis (H₁): The new design leads to a higher completion rate than the old design."
   ]
  },
  {
   "cell_type": "code",
   "execution_count": 1,
   "id": "b2c7096d-a528-42b7-a76e-eb35ff2c99ab",
   "metadata": {},
   "outputs": [],
   "source": [
    "import numpy as np\n",
    "import statsmodels.api as sm\n",
    "import pandas as pd\n",
    "import scipy.stats as st\n",
    "from scipy.stats import norm"
   ]
  },
  {
   "cell_type": "code",
   "execution_count": 2,
   "id": "32d178a8-9bff-4e6a-bbba-1dca17bc25ef",
   "metadata": {},
   "outputs": [
    {
     "data": {
      "text/html": [
       "<div>\n",
       "<style scoped>\n",
       "    .dataframe tbody tr th:only-of-type {\n",
       "        vertical-align: middle;\n",
       "    }\n",
       "\n",
       "    .dataframe tbody tr th {\n",
       "        vertical-align: top;\n",
       "    }\n",
       "\n",
       "    .dataframe thead th {\n",
       "        text-align: right;\n",
       "    }\n",
       "</style>\n",
       "<table border=\"1\" class=\"dataframe\">\n",
       "  <thead>\n",
       "    <tr style=\"text-align: right;\">\n",
       "      <th></th>\n",
       "      <th>client_id</th>\n",
       "      <th>visitor_id</th>\n",
       "      <th>visit_id</th>\n",
       "      <th>process_step</th>\n",
       "      <th>date_time</th>\n",
       "    </tr>\n",
       "  </thead>\n",
       "  <tbody>\n",
       "    <tr>\n",
       "      <th>0</th>\n",
       "      <td>1104</td>\n",
       "      <td>194240915_18158000533</td>\n",
       "      <td>543158812_46395476577_767725</td>\n",
       "      <td>start</td>\n",
       "      <td>2017-06-12 07:49:18</td>\n",
       "    </tr>\n",
       "    <tr>\n",
       "      <th>1</th>\n",
       "      <td>1104</td>\n",
       "      <td>194240915_18158000533</td>\n",
       "      <td>643221571_99977972121_69283</td>\n",
       "      <td>start</td>\n",
       "      <td>2017-06-20 22:31:33</td>\n",
       "    </tr>\n",
       "    <tr>\n",
       "      <th>2</th>\n",
       "      <td>1186</td>\n",
       "      <td>446844663_31615102958</td>\n",
       "      <td>507052512_11309370126_442139</td>\n",
       "      <td>start</td>\n",
       "      <td>2017-04-08 15:59:16</td>\n",
       "    </tr>\n",
       "    <tr>\n",
       "      <th>3</th>\n",
       "      <td>1186</td>\n",
       "      <td>446844663_31615102958</td>\n",
       "      <td>795373564_99931517312_810896</td>\n",
       "      <td>start</td>\n",
       "      <td>2017-04-08 18:05:02</td>\n",
       "    </tr>\n",
       "    <tr>\n",
       "      <th>4</th>\n",
       "      <td>1186</td>\n",
       "      <td>446844663_31615102958</td>\n",
       "      <td>795373564_99931517312_810896</td>\n",
       "      <td>step_1</td>\n",
       "      <td>2017-04-08 18:05:13</td>\n",
       "    </tr>\n",
       "    <tr>\n",
       "      <th>...</th>\n",
       "      <td>...</td>\n",
       "      <td>...</td>\n",
       "      <td>...</td>\n",
       "      <td>...</td>\n",
       "      <td>...</td>\n",
       "    </tr>\n",
       "    <tr>\n",
       "      <th>103401</th>\n",
       "      <td>9997391</td>\n",
       "      <td>494669706_3354361161</td>\n",
       "      <td>84654768_90613632047_633963</td>\n",
       "      <td>step_2</td>\n",
       "      <td>2017-04-05 15:41:34</td>\n",
       "    </tr>\n",
       "    <tr>\n",
       "      <th>103402</th>\n",
       "      <td>9997391</td>\n",
       "      <td>494669706_3354361161</td>\n",
       "      <td>84654768_90613632047_633963</td>\n",
       "      <td>step_3</td>\n",
       "      <td>2017-04-05 15:41:39</td>\n",
       "    </tr>\n",
       "    <tr>\n",
       "      <th>103403</th>\n",
       "      <td>9997470</td>\n",
       "      <td>395791369_55562604618</td>\n",
       "      <td>904791598_9725982898_416914</td>\n",
       "      <td>start</td>\n",
       "      <td>2017-04-20 20:04:38</td>\n",
       "    </tr>\n",
       "    <tr>\n",
       "      <th>103404</th>\n",
       "      <td>9997470</td>\n",
       "      <td>91394485_75296404278</td>\n",
       "      <td>655572400_94971272893_411965</td>\n",
       "      <td>start</td>\n",
       "      <td>2017-04-07 16:11:03</td>\n",
       "    </tr>\n",
       "    <tr>\n",
       "      <th>103405</th>\n",
       "      <td>9998921</td>\n",
       "      <td>960034051_85687824805</td>\n",
       "      <td>378424178_59565976155_8051</td>\n",
       "      <td>start</td>\n",
       "      <td>2017-04-18 11:26:31</td>\n",
       "    </tr>\n",
       "  </tbody>\n",
       "</table>\n",
       "<p>103406 rows × 5 columns</p>\n",
       "</div>"
      ],
      "text/plain": [
       "        client_id             visitor_id                      visit_id  \\\n",
       "0            1104  194240915_18158000533  543158812_46395476577_767725   \n",
       "1            1104  194240915_18158000533   643221571_99977972121_69283   \n",
       "2            1186  446844663_31615102958  507052512_11309370126_442139   \n",
       "3            1186  446844663_31615102958  795373564_99931517312_810896   \n",
       "4            1186  446844663_31615102958  795373564_99931517312_810896   \n",
       "...           ...                    ...                           ...   \n",
       "103401    9997391   494669706_3354361161   84654768_90613632047_633963   \n",
       "103402    9997391   494669706_3354361161   84654768_90613632047_633963   \n",
       "103403    9997470  395791369_55562604618   904791598_9725982898_416914   \n",
       "103404    9997470   91394485_75296404278  655572400_94971272893_411965   \n",
       "103405    9998921  960034051_85687824805    378424178_59565976155_8051   \n",
       "\n",
       "       process_step            date_time  \n",
       "0             start  2017-06-12 07:49:18  \n",
       "1             start  2017-06-20 22:31:33  \n",
       "2             start  2017-04-08 15:59:16  \n",
       "3             start  2017-04-08 18:05:02  \n",
       "4            step_1  2017-04-08 18:05:13  \n",
       "...             ...                  ...  \n",
       "103401       step_2  2017-04-05 15:41:34  \n",
       "103402       step_3  2017-04-05 15:41:39  \n",
       "103403        start  2017-04-20 20:04:38  \n",
       "103404        start  2017-04-07 16:11:03  \n",
       "103405        start  2017-04-18 11:26:31  \n",
       "\n",
       "[103406 rows x 5 columns]"
      ]
     },
     "metadata": {},
     "output_type": "display_data"
    },
    {
     "data": {
      "text/html": [
       "<div>\n",
       "<style scoped>\n",
       "    .dataframe tbody tr th:only-of-type {\n",
       "        vertical-align: middle;\n",
       "    }\n",
       "\n",
       "    .dataframe tbody tr th {\n",
       "        vertical-align: top;\n",
       "    }\n",
       "\n",
       "    .dataframe thead th {\n",
       "        text-align: right;\n",
       "    }\n",
       "</style>\n",
       "<table border=\"1\" class=\"dataframe\">\n",
       "  <thead>\n",
       "    <tr style=\"text-align: right;\">\n",
       "      <th></th>\n",
       "      <th>client_id</th>\n",
       "      <th>visitor_id</th>\n",
       "      <th>visit_id</th>\n",
       "      <th>process_step</th>\n",
       "      <th>date_time</th>\n",
       "    </tr>\n",
       "  </thead>\n",
       "  <tbody>\n",
       "    <tr>\n",
       "      <th>0</th>\n",
       "      <td>555</td>\n",
       "      <td>402506806_56087378777</td>\n",
       "      <td>637149525_38041617439_716659</td>\n",
       "      <td>start</td>\n",
       "      <td>2017-04-15 12:57:56</td>\n",
       "    </tr>\n",
       "    <tr>\n",
       "      <th>1</th>\n",
       "      <td>555</td>\n",
       "      <td>402506806_56087378777</td>\n",
       "      <td>637149525_38041617439_716659</td>\n",
       "      <td>step_1</td>\n",
       "      <td>2017-04-15 12:58:03</td>\n",
       "    </tr>\n",
       "    <tr>\n",
       "      <th>2</th>\n",
       "      <td>555</td>\n",
       "      <td>402506806_56087378777</td>\n",
       "      <td>637149525_38041617439_716659</td>\n",
       "      <td>step_2</td>\n",
       "      <td>2017-04-15 12:58:35</td>\n",
       "    </tr>\n",
       "    <tr>\n",
       "      <th>3</th>\n",
       "      <td>555</td>\n",
       "      <td>402506806_56087378777</td>\n",
       "      <td>637149525_38041617439_716659</td>\n",
       "      <td>step_3</td>\n",
       "      <td>2017-04-15 13:00:14</td>\n",
       "    </tr>\n",
       "    <tr>\n",
       "      <th>4</th>\n",
       "      <td>555</td>\n",
       "      <td>402506806_56087378777</td>\n",
       "      <td>637149525_38041617439_716659</td>\n",
       "      <td>confirm</td>\n",
       "      <td>2017-04-15 13:00:34</td>\n",
       "    </tr>\n",
       "    <tr>\n",
       "      <th>...</th>\n",
       "      <td>...</td>\n",
       "      <td>...</td>\n",
       "      <td>...</td>\n",
       "      <td>...</td>\n",
       "      <td>...</td>\n",
       "    </tr>\n",
       "    <tr>\n",
       "      <th>128686</th>\n",
       "      <td>9999729</td>\n",
       "      <td>843385170_36953471821</td>\n",
       "      <td>493310979_9209676464_421146</td>\n",
       "      <td>start</td>\n",
       "      <td>2017-04-20 14:21:27</td>\n",
       "    </tr>\n",
       "    <tr>\n",
       "      <th>128687</th>\n",
       "      <td>9999729</td>\n",
       "      <td>843385170_36953471821</td>\n",
       "      <td>493310979_9209676464_421146</td>\n",
       "      <td>step_1</td>\n",
       "      <td>2017-04-20 14:22:49</td>\n",
       "    </tr>\n",
       "    <tr>\n",
       "      <th>128688</th>\n",
       "      <td>9999729</td>\n",
       "      <td>843385170_36953471821</td>\n",
       "      <td>493310979_9209676464_421146</td>\n",
       "      <td>step_2</td>\n",
       "      <td>2017-04-20 14:27:36</td>\n",
       "    </tr>\n",
       "    <tr>\n",
       "      <th>128689</th>\n",
       "      <td>9999832</td>\n",
       "      <td>145538019_54444341400</td>\n",
       "      <td>472154369_16714624241_585315</td>\n",
       "      <td>start</td>\n",
       "      <td>2017-05-16 16:46:03</td>\n",
       "    </tr>\n",
       "    <tr>\n",
       "      <th>128690</th>\n",
       "      <td>9999832</td>\n",
       "      <td>145538019_54444341400</td>\n",
       "      <td>472154369_16714624241_585315</td>\n",
       "      <td>step_1</td>\n",
       "      <td>2017-05-16 16:46:11</td>\n",
       "    </tr>\n",
       "  </tbody>\n",
       "</table>\n",
       "<p>128691 rows × 5 columns</p>\n",
       "</div>"
      ],
      "text/plain": [
       "        client_id             visitor_id                      visit_id  \\\n",
       "0             555  402506806_56087378777  637149525_38041617439_716659   \n",
       "1             555  402506806_56087378777  637149525_38041617439_716659   \n",
       "2             555  402506806_56087378777  637149525_38041617439_716659   \n",
       "3             555  402506806_56087378777  637149525_38041617439_716659   \n",
       "4             555  402506806_56087378777  637149525_38041617439_716659   \n",
       "...           ...                    ...                           ...   \n",
       "128686    9999729  843385170_36953471821   493310979_9209676464_421146   \n",
       "128687    9999729  843385170_36953471821   493310979_9209676464_421146   \n",
       "128688    9999729  843385170_36953471821   493310979_9209676464_421146   \n",
       "128689    9999832  145538019_54444341400  472154369_16714624241_585315   \n",
       "128690    9999832  145538019_54444341400  472154369_16714624241_585315   \n",
       "\n",
       "       process_step            date_time  \n",
       "0             start  2017-04-15 12:57:56  \n",
       "1            step_1  2017-04-15 12:58:03  \n",
       "2            step_2  2017-04-15 12:58:35  \n",
       "3            step_3  2017-04-15 13:00:14  \n",
       "4           confirm  2017-04-15 13:00:34  \n",
       "...             ...                  ...  \n",
       "128686        start  2017-04-20 14:21:27  \n",
       "128687       step_1  2017-04-20 14:22:49  \n",
       "128688       step_2  2017-04-20 14:27:36  \n",
       "128689        start  2017-05-16 16:46:03  \n",
       "128690       step_1  2017-05-16 16:46:11  \n",
       "\n",
       "[128691 rows x 5 columns]"
      ]
     },
     "metadata": {},
     "output_type": "display_data"
    }
   ],
   "source": [
    "control = pd.read_csv('../data/clean/merged_control.csv')\n",
    "control = control.drop(columns = 'Unnamed: 0')\n",
    "display(control)\n",
    "\n",
    "test = pd.read_csv('../data/clean/merged_test.csv')\n",
    "test = test.drop(columns = 'Unnamed: 0')\n",
    "display(test)"
   ]
  },
  {
   "cell_type": "markdown",
   "id": "deeb650e-954d-44f5-9a59-7b213a334125",
   "metadata": {},
   "source": [
    "## First, let's test the differences between visit_ids"
   ]
  },
  {
   "cell_type": "code",
   "execution_count": 3,
   "id": "2f030000-a6a1-4579-a654-dae936a3fbfd",
   "metadata": {},
   "outputs": [
    {
     "name": "stdout",
     "output_type": "stream",
     "text": [
      "Total number of visits in the control group: 28527\n",
      "Visits who completed the process in the control group: 13176\n",
      "\n",
      "Total number of visits in the test group: 30799\n",
      "Visits who completed the process in the test group: 16593\n"
     ]
    }
   ],
   "source": [
    "n_control = control['visit_id'].nunique()\n",
    "n_test = test['visit_id'].nunique()\n",
    "\n",
    "# Identify visits who completed the whole process\n",
    "completed_visits_control = control[control['process_step'] == 'confirm']['visit_id'].nunique()\n",
    "completed_visits_test = test[test['process_step'] == 'confirm']['visit_id'].nunique()\n",
    "\n",
    "print(f\"Total number of visits in the control group: {n_control}\")\n",
    "print(f\"Visits who completed the process in the control group: {completed_visits_control}\\n\")\n",
    "print(f\"Total number of visits in the test group: {n_test}\")\n",
    "print(f\"Visits who completed the process in the test group: {completed_visits_test}\")"
   ]
  },
  {
   "cell_type": "code",
   "execution_count": 4,
   "id": "335ccfb0-884b-49ba-a8a0-ca8b4fe64a08",
   "metadata": {},
   "outputs": [
    {
     "data": {
      "text/plain": [
       "0.4618782206330844"
      ]
     },
     "metadata": {},
     "output_type": "display_data"
    },
    {
     "data": {
      "text/plain": [
       "0.5387512581577324"
      ]
     },
     "metadata": {},
     "output_type": "display_data"
    }
   ],
   "source": [
    "# Calculate proportions\n",
    "p_control = completed_visits_control / n_control\n",
    "p_test = completed_visits_test / n_test\n",
    "\n",
    "display(p_control)\n",
    "display(p_test)"
   ]
  },
  {
   "cell_type": "code",
   "execution_count": 5,
   "id": "bc17dfee-ccfc-4ac4-8fd7-b4bf01dd3914",
   "metadata": {},
   "outputs": [
    {
     "name": "stdout",
     "output_type": "stream",
     "text": [
      "Z-statistic: -18.7103\n",
      "P-value: 0.0000\n",
      "Reject the null hypothesis: There is a significant difference in completion rates.\n"
     ]
    }
   ],
   "source": [
    "# Prepare the data for the Z-test\n",
    "count = np.array([completed_visits_control, completed_visits_test])  # Success counts\n",
    "nobs = np.array([n_control, n_test])  # Total observations\n",
    "\n",
    "# Perform Two-proportion Z-test\n",
    "z_stat, p_value = sm.stats.proportions_ztest(count, nobs)\n",
    "\n",
    "# Print the results\n",
    "print(f\"Z-statistic: {z_stat:.4f}\")\n",
    "print(f\"P-value: {p_value:.4f}\")\n",
    "\n",
    "# Interpret the results\n",
    "alpha = 0.05  # Significance level\n",
    "if p_value < alpha:\n",
    "    print(\"Reject the null hypothesis: There is a significant difference in completion rates.\")\n",
    "else:\n",
    "    print(\"Fail to reject the null hypothesis: No significant difference in completion rates.\")"
   ]
  },
  {
   "cell_type": "markdown",
   "id": "4566fbb5-6627-49cb-9d42-1b57992a7660",
   "metadata": {},
   "source": [
    "## Now, let's try the differences between client_ids"
   ]
  },
  {
   "cell_type": "code",
   "execution_count": 6,
   "id": "9bd6084c-7c8d-402e-b515-280f40dd85c1",
   "metadata": {},
   "outputs": [
    {
     "name": "stdout",
     "output_type": "stream",
     "text": [
      "Total number of clients in the control group: 21745\n",
      "Clients who completed the process in the control group: 13161\n",
      "\n",
      "Total number of clients in the test group: 25145\n",
      "Clients who completed the process in the test group: 16565\n"
     ]
    }
   ],
   "source": [
    "nc_control = control['client_id'].nunique()\n",
    "nc_test = test['client_id'].nunique()\n",
    "\n",
    "# Identify clients who completed the whole process\n",
    "completed_clients_control = control[control['process_step'] == 'confirm']['client_id'].nunique()\n",
    "completed_clients_test = test[test['process_step'] == 'confirm']['client_id'].nunique()\n",
    "\n",
    "print(f\"Total number of clients in the control group: {nc_control}\")\n",
    "print(f\"Clients who completed the process in the control group: {completed_clients_control}\\n\")\n",
    "print(f\"Total number of clients in the test group: {nc_test}\")\n",
    "print(f\"Clients who completed the process in the test group: {completed_clients_test}\")"
   ]
  },
  {
   "cell_type": "code",
   "execution_count": 7,
   "id": "5e7e40ad-5e70-4726-8ea4-2cc034184b48",
   "metadata": {},
   "outputs": [
    {
     "data": {
      "text/plain": [
       "0.6052425845021844"
      ]
     },
     "metadata": {},
     "output_type": "display_data"
    },
    {
     "data": {
      "text/plain": [
       "0.6587790813282959"
      ]
     },
     "metadata": {},
     "output_type": "display_data"
    }
   ],
   "source": [
    "# Calculate proportions\n",
    "pc_control = completed_clients_control / nc_control\n",
    "pc_test = completed_clients_test / nc_test\n",
    "\n",
    "display(pc_control)\n",
    "display(pc_test)"
   ]
  },
  {
   "cell_type": "code",
   "execution_count": 8,
   "id": "5e74c464-2483-43bb-974e-ca4cc9581652",
   "metadata": {},
   "outputs": [
    {
     "name": "stdout",
     "output_type": "stream",
     "text": [
      "Z-statistic: -12.0010\n",
      "P-value: 0.0000\n",
      "Reject the null hypothesis: There is a significant difference in completion rates.\n"
     ]
    }
   ],
   "source": [
    "# Prepare the data for the Z-test\n",
    "count = np.array([completed_clients_control, completed_clients_test])  # Success counts\n",
    "nobs = np.array([nc_control, nc_test])  # Total observations\n",
    "\n",
    "# Perform Two-proportion Z-test\n",
    "z_stat, p_value = sm.stats.proportions_ztest(count, nobs)\n",
    "\n",
    "# Print the results\n",
    "print(f\"Z-statistic: {z_stat:.4f}\")\n",
    "print(f\"P-value: {p_value:.4f}\")\n",
    "\n",
    "# Interpret the results\n",
    "alpha = 0.05  # Significance level\n",
    "if p_value < alpha:\n",
    "    print(\"Reject the null hypothesis: There is a significant difference in completion rates.\")\n",
    "else:\n",
    "    print(\"Fail to reject the null hypothesis: No significant difference in completion rates.\")"
   ]
  },
  {
   "cell_type": "code",
   "execution_count": null,
   "id": "fa30a474-59ad-4bfd-9524-5cf561c9de9c",
   "metadata": {},
   "outputs": [],
   "source": []
  }
 ],
 "metadata": {
  "kernelspec": {
   "display_name": "venv",
   "language": "python",
   "name": "venv"
  },
  "language_info": {
   "codemirror_mode": {
    "name": "ipython",
    "version": 3
   },
   "file_extension": ".py",
   "mimetype": "text/x-python",
   "name": "python",
   "nbconvert_exporter": "python",
   "pygments_lexer": "ipython3",
   "version": "3.11.7"
  }
 },
 "nbformat": 4,
 "nbformat_minor": 5
}
