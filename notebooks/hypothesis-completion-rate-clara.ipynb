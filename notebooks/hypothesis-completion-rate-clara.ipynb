{
 "cells": [
  {
   "cell_type": "markdown",
   "id": "1d69e5e6-3ca1-4710-9f97-faba5d78d5b5",
   "metadata": {},
   "source": [
    "# Hypothesis testing: Completion Rate\n",
    "The goal is to determine if the difference in completion rates between the Test (new design) and Control (old design) groups is statistically significant. This will help confirm if the redesign has had a meaningful impact on the completion rate."
   ]
  },
  {
   "cell_type": "markdown",
   "id": "cef18f70-f977-4391-a35d-37ca0485bd43",
   "metadata": {},
   "source": [
    "## Completion Hypothesis:\n",
    "#### Null hypothesis (H₀): The new design does not lead to a higher completion rate than the old design.\n",
    "#### Alternative hypothesis (H₁): The new design leads to a higher completion rate than the old design."
   ]
  },
  {
   "cell_type": "code",
   "execution_count": 1,
   "id": "b2c7096d-a528-42b7-a76e-eb35ff2c99ab",
   "metadata": {},
   "outputs": [],
   "source": [
    "import pandas as pd\n",
    "import matplotlib.pyplot as plt\n",
    "import seaborn as sns\n",
    "import numpy as np\n",
    "import re\n",
    "import scipy.stats as st\n",
    "from scipy.stats import norm"
   ]
  },
  {
   "cell_type": "code",
   "execution_count": 2,
   "id": "32d178a8-9bff-4e6a-bbba-1dca17bc25ef",
   "metadata": {},
   "outputs": [
    {
     "data": {
      "text/html": [
       "<div>\n",
       "<style scoped>\n",
       "    .dataframe tbody tr th:only-of-type {\n",
       "        vertical-align: middle;\n",
       "    }\n",
       "\n",
       "    .dataframe tbody tr th {\n",
       "        vertical-align: top;\n",
       "    }\n",
       "\n",
       "    .dataframe thead th {\n",
       "        text-align: right;\n",
       "    }\n",
       "</style>\n",
       "<table border=\"1\" class=\"dataframe\">\n",
       "  <thead>\n",
       "    <tr style=\"text-align: right;\">\n",
       "      <th></th>\n",
       "      <th>Unnamed: 0</th>\n",
       "      <th>client_id</th>\n",
       "      <th>visitor_id</th>\n",
       "      <th>visit_id</th>\n",
       "      <th>from_step</th>\n",
       "      <th>to_step</th>\n",
       "      <th>time_spent</th>\n",
       "      <th>is_error</th>\n",
       "    </tr>\n",
       "  </thead>\n",
       "  <tbody>\n",
       "    <tr>\n",
       "      <th>0</th>\n",
       "      <td>0</td>\n",
       "      <td>1028</td>\n",
       "      <td>42237450_62128060588</td>\n",
       "      <td>557292053_87239438319_391157</td>\n",
       "      <td>start</td>\n",
       "      <td>step_1</td>\n",
       "      <td>0 days 00:00:49</td>\n",
       "      <td>False</td>\n",
       "    </tr>\n",
       "    <tr>\n",
       "      <th>1</th>\n",
       "      <td>1</td>\n",
       "      <td>1028</td>\n",
       "      <td>42237450_62128060588</td>\n",
       "      <td>557292053_87239438319_391157</td>\n",
       "      <td>step_1</td>\n",
       "      <td>step_2</td>\n",
       "      <td>0 days 00:01:12</td>\n",
       "      <td>False</td>\n",
       "    </tr>\n",
       "    <tr>\n",
       "      <th>2</th>\n",
       "      <td>2</td>\n",
       "      <td>1028</td>\n",
       "      <td>42237450_62128060588</td>\n",
       "      <td>557292053_87239438319_391157</td>\n",
       "      <td>step_2</td>\n",
       "      <td>step_3</td>\n",
       "      <td>0 days 00:04:35</td>\n",
       "      <td>False</td>\n",
       "    </tr>\n",
       "    <tr>\n",
       "      <th>3</th>\n",
       "      <td>3</td>\n",
       "      <td>1028</td>\n",
       "      <td>42237450_62128060588</td>\n",
       "      <td>557292053_87239438319_391157</td>\n",
       "      <td>step_3</td>\n",
       "      <td>step_1</td>\n",
       "      <td>0 days 00:01:51</td>\n",
       "      <td>True</td>\n",
       "    </tr>\n",
       "    <tr>\n",
       "      <th>4</th>\n",
       "      <td>4</td>\n",
       "      <td>1028</td>\n",
       "      <td>42237450_62128060588</td>\n",
       "      <td>557292053_87239438319_391157</td>\n",
       "      <td>step_1</td>\n",
       "      <td>step_2</td>\n",
       "      <td>0 days 00:00:22</td>\n",
       "      <td>False</td>\n",
       "    </tr>\n",
       "    <tr>\n",
       "      <th>...</th>\n",
       "      <td>...</td>\n",
       "      <td>...</td>\n",
       "      <td>...</td>\n",
       "      <td>...</td>\n",
       "      <td>...</td>\n",
       "      <td>...</td>\n",
       "      <td>...</td>\n",
       "      <td>...</td>\n",
       "    </tr>\n",
       "    <tr>\n",
       "      <th>91856</th>\n",
       "      <td>91856</td>\n",
       "      <td>9998346</td>\n",
       "      <td>292425655_16607136645</td>\n",
       "      <td>189177304_69869411700_783154</td>\n",
       "      <td>step_2</td>\n",
       "      <td>step_3</td>\n",
       "      <td>0 days 00:01:13</td>\n",
       "      <td>False</td>\n",
       "    </tr>\n",
       "    <tr>\n",
       "      <th>91857</th>\n",
       "      <td>91857</td>\n",
       "      <td>9998346</td>\n",
       "      <td>292425655_16607136645</td>\n",
       "      <td>189177304_69869411700_783154</td>\n",
       "      <td>step_3</td>\n",
       "      <td>step_1</td>\n",
       "      <td>0 days 00:01:55</td>\n",
       "      <td>True</td>\n",
       "    </tr>\n",
       "    <tr>\n",
       "      <th>91858</th>\n",
       "      <td>91858</td>\n",
       "      <td>9998346</td>\n",
       "      <td>292425655_16607136645</td>\n",
       "      <td>189177304_69869411700_783154</td>\n",
       "      <td>step_1</td>\n",
       "      <td>step_2</td>\n",
       "      <td>0 days 00:00:16</td>\n",
       "      <td>False</td>\n",
       "    </tr>\n",
       "    <tr>\n",
       "      <th>91859</th>\n",
       "      <td>91859</td>\n",
       "      <td>9998346</td>\n",
       "      <td>292425655_16607136645</td>\n",
       "      <td>189177304_69869411700_783154</td>\n",
       "      <td>step_2</td>\n",
       "      <td>step_3</td>\n",
       "      <td>0 days 00:00:14</td>\n",
       "      <td>False</td>\n",
       "    </tr>\n",
       "    <tr>\n",
       "      <th>91860</th>\n",
       "      <td>91860</td>\n",
       "      <td>9998346</td>\n",
       "      <td>292425655_16607136645</td>\n",
       "      <td>189177304_69869411700_783154</td>\n",
       "      <td>step_3</td>\n",
       "      <td>confirm</td>\n",
       "      <td>0 days 00:07:03</td>\n",
       "      <td>False</td>\n",
       "    </tr>\n",
       "  </tbody>\n",
       "</table>\n",
       "<p>91861 rows × 8 columns</p>\n",
       "</div>"
      ],
      "text/plain": [
       "       Unnamed: 0  client_id             visitor_id  \\\n",
       "0               0       1028   42237450_62128060588   \n",
       "1               1       1028   42237450_62128060588   \n",
       "2               2       1028   42237450_62128060588   \n",
       "3               3       1028   42237450_62128060588   \n",
       "4               4       1028   42237450_62128060588   \n",
       "...           ...        ...                    ...   \n",
       "91856       91856    9998346  292425655_16607136645   \n",
       "91857       91857    9998346  292425655_16607136645   \n",
       "91858       91858    9998346  292425655_16607136645   \n",
       "91859       91859    9998346  292425655_16607136645   \n",
       "91860       91860    9998346  292425655_16607136645   \n",
       "\n",
       "                           visit_id from_step  to_step       time_spent  \\\n",
       "0      557292053_87239438319_391157     start   step_1  0 days 00:00:49   \n",
       "1      557292053_87239438319_391157    step_1   step_2  0 days 00:01:12   \n",
       "2      557292053_87239438319_391157    step_2   step_3  0 days 00:04:35   \n",
       "3      557292053_87239438319_391157    step_3   step_1  0 days 00:01:51   \n",
       "4      557292053_87239438319_391157    step_1   step_2  0 days 00:00:22   \n",
       "...                             ...       ...      ...              ...   \n",
       "91856  189177304_69869411700_783154    step_2   step_3  0 days 00:01:13   \n",
       "91857  189177304_69869411700_783154    step_3   step_1  0 days 00:01:55   \n",
       "91858  189177304_69869411700_783154    step_1   step_2  0 days 00:00:16   \n",
       "91859  189177304_69869411700_783154    step_2   step_3  0 days 00:00:14   \n",
       "91860  189177304_69869411700_783154    step_3  confirm  0 days 00:07:03   \n",
       "\n",
       "       is_error  \n",
       "0         False  \n",
       "1         False  \n",
       "2         False  \n",
       "3          True  \n",
       "4         False  \n",
       "...         ...  \n",
       "91856     False  \n",
       "91857      True  \n",
       "91858     False  \n",
       "91859     False  \n",
       "91860     False  \n",
       "\n",
       "[91861 rows x 8 columns]"
      ]
     },
     "metadata": {},
     "output_type": "display_data"
    },
    {
     "data": {
      "text/html": [
       "<div>\n",
       "<style scoped>\n",
       "    .dataframe tbody tr th:only-of-type {\n",
       "        vertical-align: middle;\n",
       "    }\n",
       "\n",
       "    .dataframe tbody tr th {\n",
       "        vertical-align: top;\n",
       "    }\n",
       "\n",
       "    .dataframe thead th {\n",
       "        text-align: right;\n",
       "    }\n",
       "</style>\n",
       "<table border=\"1\" class=\"dataframe\">\n",
       "  <thead>\n",
       "    <tr style=\"text-align: right;\">\n",
       "      <th></th>\n",
       "      <th>Unnamed: 0</th>\n",
       "      <th>client_id</th>\n",
       "      <th>visitor_id</th>\n",
       "      <th>visit_id</th>\n",
       "      <th>from_step</th>\n",
       "      <th>to_step</th>\n",
       "      <th>time_spent</th>\n",
       "      <th>is_error</th>\n",
       "    </tr>\n",
       "  </thead>\n",
       "  <tbody>\n",
       "    <tr>\n",
       "      <th>0</th>\n",
       "      <td>0</td>\n",
       "      <td>555</td>\n",
       "      <td>402506806_56087378777</td>\n",
       "      <td>637149525_38041617439_716659</td>\n",
       "      <td>start</td>\n",
       "      <td>step_1</td>\n",
       "      <td>0 days 00:00:07</td>\n",
       "      <td>False</td>\n",
       "    </tr>\n",
       "    <tr>\n",
       "      <th>1</th>\n",
       "      <td>1</td>\n",
       "      <td>555</td>\n",
       "      <td>402506806_56087378777</td>\n",
       "      <td>637149525_38041617439_716659</td>\n",
       "      <td>step_1</td>\n",
       "      <td>step_2</td>\n",
       "      <td>0 days 00:00:32</td>\n",
       "      <td>False</td>\n",
       "    </tr>\n",
       "    <tr>\n",
       "      <th>2</th>\n",
       "      <td>2</td>\n",
       "      <td>555</td>\n",
       "      <td>402506806_56087378777</td>\n",
       "      <td>637149525_38041617439_716659</td>\n",
       "      <td>step_2</td>\n",
       "      <td>step_3</td>\n",
       "      <td>0 days 00:01:39</td>\n",
       "      <td>False</td>\n",
       "    </tr>\n",
       "    <tr>\n",
       "      <th>3</th>\n",
       "      <td>3</td>\n",
       "      <td>555</td>\n",
       "      <td>402506806_56087378777</td>\n",
       "      <td>637149525_38041617439_716659</td>\n",
       "      <td>step_3</td>\n",
       "      <td>confirm</td>\n",
       "      <td>0 days 00:00:20</td>\n",
       "      <td>False</td>\n",
       "    </tr>\n",
       "    <tr>\n",
       "      <th>4</th>\n",
       "      <td>4</td>\n",
       "      <td>647</td>\n",
       "      <td>66758770_53988066587</td>\n",
       "      <td>40369564_40101682850_311847</td>\n",
       "      <td>start</td>\n",
       "      <td>step_1</td>\n",
       "      <td>0 days 00:00:07</td>\n",
       "      <td>False</td>\n",
       "    </tr>\n",
       "    <tr>\n",
       "      <th>...</th>\n",
       "      <td>...</td>\n",
       "      <td>...</td>\n",
       "      <td>...</td>\n",
       "      <td>...</td>\n",
       "      <td>...</td>\n",
       "      <td>...</td>\n",
       "      <td>...</td>\n",
       "      <td>...</td>\n",
       "    </tr>\n",
       "    <tr>\n",
       "      <th>114524</th>\n",
       "      <td>114524</td>\n",
       "      <td>9999729</td>\n",
       "      <td>834634258_21862004160</td>\n",
       "      <td>870243567_56915814033_814203</td>\n",
       "      <td>step_2</td>\n",
       "      <td>step_3</td>\n",
       "      <td>0 days 00:00:39</td>\n",
       "      <td>False</td>\n",
       "    </tr>\n",
       "    <tr>\n",
       "      <th>114525</th>\n",
       "      <td>114525</td>\n",
       "      <td>9999729</td>\n",
       "      <td>834634258_21862004160</td>\n",
       "      <td>870243567_56915814033_814203</td>\n",
       "      <td>step_3</td>\n",
       "      <td>confirm</td>\n",
       "      <td>0 days 00:00:21</td>\n",
       "      <td>False</td>\n",
       "    </tr>\n",
       "    <tr>\n",
       "      <th>114526</th>\n",
       "      <td>114526</td>\n",
       "      <td>9999729</td>\n",
       "      <td>843385170_36953471821</td>\n",
       "      <td>493310979_9209676464_421146</td>\n",
       "      <td>start</td>\n",
       "      <td>step_1</td>\n",
       "      <td>0 days 00:01:22</td>\n",
       "      <td>False</td>\n",
       "    </tr>\n",
       "    <tr>\n",
       "      <th>114527</th>\n",
       "      <td>114527</td>\n",
       "      <td>9999729</td>\n",
       "      <td>843385170_36953471821</td>\n",
       "      <td>493310979_9209676464_421146</td>\n",
       "      <td>step_1</td>\n",
       "      <td>step_2</td>\n",
       "      <td>0 days 00:04:47</td>\n",
       "      <td>False</td>\n",
       "    </tr>\n",
       "    <tr>\n",
       "      <th>114528</th>\n",
       "      <td>114528</td>\n",
       "      <td>9999832</td>\n",
       "      <td>145538019_54444341400</td>\n",
       "      <td>472154369_16714624241_585315</td>\n",
       "      <td>start</td>\n",
       "      <td>step_1</td>\n",
       "      <td>0 days 00:00:08</td>\n",
       "      <td>False</td>\n",
       "    </tr>\n",
       "  </tbody>\n",
       "</table>\n",
       "<p>114529 rows × 8 columns</p>\n",
       "</div>"
      ],
      "text/plain": [
       "        Unnamed: 0  client_id             visitor_id  \\\n",
       "0                0        555  402506806_56087378777   \n",
       "1                1        555  402506806_56087378777   \n",
       "2                2        555  402506806_56087378777   \n",
       "3                3        555  402506806_56087378777   \n",
       "4                4        647   66758770_53988066587   \n",
       "...            ...        ...                    ...   \n",
       "114524      114524    9999729  834634258_21862004160   \n",
       "114525      114525    9999729  834634258_21862004160   \n",
       "114526      114526    9999729  843385170_36953471821   \n",
       "114527      114527    9999729  843385170_36953471821   \n",
       "114528      114528    9999832  145538019_54444341400   \n",
       "\n",
       "                            visit_id from_step  to_step       time_spent  \\\n",
       "0       637149525_38041617439_716659     start   step_1  0 days 00:00:07   \n",
       "1       637149525_38041617439_716659    step_1   step_2  0 days 00:00:32   \n",
       "2       637149525_38041617439_716659    step_2   step_3  0 days 00:01:39   \n",
       "3       637149525_38041617439_716659    step_3  confirm  0 days 00:00:20   \n",
       "4        40369564_40101682850_311847     start   step_1  0 days 00:00:07   \n",
       "...                              ...       ...      ...              ...   \n",
       "114524  870243567_56915814033_814203    step_2   step_3  0 days 00:00:39   \n",
       "114525  870243567_56915814033_814203    step_3  confirm  0 days 00:00:21   \n",
       "114526   493310979_9209676464_421146     start   step_1  0 days 00:01:22   \n",
       "114527   493310979_9209676464_421146    step_1   step_2  0 days 00:04:47   \n",
       "114528  472154369_16714624241_585315     start   step_1  0 days 00:00:08   \n",
       "\n",
       "        is_error  \n",
       "0          False  \n",
       "1          False  \n",
       "2          False  \n",
       "3          False  \n",
       "4          False  \n",
       "...          ...  \n",
       "114524     False  \n",
       "114525     False  \n",
       "114526     False  \n",
       "114527     False  \n",
       "114528     False  \n",
       "\n",
       "[114529 rows x 8 columns]"
      ]
     },
     "metadata": {},
     "output_type": "display_data"
    }
   ],
   "source": [
    "control = pd.read_csv('../data/clean/time_spent_control_df.csv')\n",
    "display(control)\n",
    "\n",
    "test = pd.read_csv('../data/clean/time_spent_test_df.csv')\n",
    "display(test)"
   ]
  },
  {
   "cell_type": "markdown",
   "id": "deeb650e-954d-44f5-9a59-7b213a334125",
   "metadata": {},
   "source": [
    "## First, let's test the differences between visit_ids"
   ]
  },
  {
   "cell_type": "code",
   "execution_count": 3,
   "id": "2f030000-a6a1-4579-a654-dae936a3fbfd",
   "metadata": {},
   "outputs": [
    {
     "name": "stdout",
     "output_type": "stream",
     "text": [
      "Total number of visits in the control group: 23793\n",
      "Visits who completed the process in the control group: 15205\n",
      "\n",
      "Total number of visits in the test group: 28570\n",
      "Visits who completed the process in the test group: 18280\n"
     ]
    }
   ],
   "source": [
    "n_control = control['visit_id'].nunique()\n",
    "n_test = test['visit_id'].nunique()\n",
    "\n",
    "# Identify visits who completed the whole process\n",
    "completed_visits_control = control[control['to_step'] == 'confirm']['visit_id'].nunique()\n",
    "completed_visits_test = test[test['to_step'] == 'confirm']['visit_id'].nunique()\n",
    "\n",
    "print(f\"Total number of visits in the control group: {n_control}\")\n",
    "print(f\"Visits who completed the process in the control group: {completed_visits_control}\\n\")\n",
    "print(f\"Total number of visits in the test group: {n_test}\")\n",
    "print(f\"Visits who completed the process in the test group: {completed_visits_test}\")"
   ]
  },
  {
   "cell_type": "code",
   "execution_count": 4,
   "id": "335ccfb0-884b-49ba-a8a0-ca8b4fe64a08",
   "metadata": {},
   "outputs": [
    {
     "data": {
      "text/plain": [
       "0.639053503131173"
      ]
     },
     "metadata": {},
     "output_type": "display_data"
    },
    {
     "data": {
      "text/plain": [
       "0.6398319915995799"
      ]
     },
     "metadata": {},
     "output_type": "display_data"
    }
   ],
   "source": [
    "# Calculate proportions\n",
    "p_control = completed_visits_control / n_control\n",
    "p_test = completed_visits_test / n_test\n",
    "\n",
    "display(p_control)\n",
    "display(p_test)"
   ]
  },
  {
   "cell_type": "code",
   "execution_count": 5,
   "id": "174407bd-32d6-41ea-b83b-6cb054ef317c",
   "metadata": {},
   "outputs": [],
   "source": [
    "# Pooled proportion\n",
    "pooled_p = (completed_visits_test + completed_visits_control) / (n_test + n_control)"
   ]
  },
  {
   "cell_type": "code",
   "execution_count": 6,
   "id": "aa722719-c5c4-4881-bda6-0b3db4c45ad9",
   "metadata": {},
   "outputs": [
    {
     "name": "stdout",
     "output_type": "stream",
     "text": [
      "0.1847315286322637\n"
     ]
    }
   ],
   "source": [
    "# Standard error\n",
    "se = np.sqrt(pooled_p * (1 - pooled_p) * (1 / n_test + 1 / n_control))\n",
    "\n",
    "# Z-Statistic\n",
    "z_stat = (p_test - p_control) / se\n",
    "print(z_stat)"
   ]
  },
  {
   "cell_type": "code",
   "execution_count": 7,
   "id": "4ddfb218-2cf8-4d55-b3a5-8b8025bc1d96",
   "metadata": {},
   "outputs": [],
   "source": [
    "# One-tailed p-value\n",
    "p_value = 1 - norm.cdf(z_stat)"
   ]
  },
  {
   "cell_type": "code",
   "execution_count": 8,
   "id": "444b0997-17be-4b04-916f-2cf1932683f6",
   "metadata": {},
   "outputs": [
    {
     "name": "stdout",
     "output_type": "stream",
     "text": [
      "The result is not statistically significant (p = 0.4267). Fail to reject the null hypothesis.\n"
     ]
    }
   ],
   "source": [
    "alpha = 0.05  # Significance level\n",
    "\n",
    "if p_value < alpha:\n",
    "    print(f\"The result is statistically significant (p = {p_value:.4f}). Reject the null hypothesis.\")\n",
    "else:\n",
    "    print(f\"The result is not statistically significant (p = {p_value:.4f}). Fail to reject the null hypothesis.\")"
   ]
  },
  {
   "cell_type": "markdown",
   "id": "4566fbb5-6627-49cb-9d42-1b57992a7660",
   "metadata": {},
   "source": [
    "## Now, let's try the differences between client_ids"
   ]
  },
  {
   "cell_type": "code",
   "execution_count": 9,
   "id": "9bd6084c-7c8d-402e-b515-280f40dd85c1",
   "metadata": {},
   "outputs": [
    {
     "name": "stdout",
     "output_type": "stream",
     "text": [
      "Total number of clients in the control group: 20177\n",
      "Clients who completed the process in the control group: 15225\n",
      "\n",
      "Total number of clients in the test group: 24287\n",
      "Clients who completed the process in the test group: 18293\n"
     ]
    }
   ],
   "source": [
    "nc_control = control['client_id'].nunique()\n",
    "nc_test = test['client_id'].nunique()\n",
    "\n",
    "# Identify clients who completed the whole process\n",
    "completed_clients_control = control[control['to_step'] == 'confirm']['client_id'].nunique()\n",
    "completed_clients_test = test[test['to_step'] == 'confirm']['client_id'].nunique()\n",
    "\n",
    "print(f\"Total number of clients in the control group: {nc_control}\")\n",
    "print(f\"Clients who completed the process in the control group: {completed_clients_control}\\n\")\n",
    "print(f\"Total number of clients in the test group: {nc_test}\")\n",
    "print(f\"Clients who completed the process in the test group: {completed_clients_test}\")"
   ]
  },
  {
   "cell_type": "code",
   "execution_count": 10,
   "id": "5e7e40ad-5e70-4726-8ea4-2cc034184b48",
   "metadata": {},
   "outputs": [
    {
     "data": {
      "text/plain": [
       "0.7545720374684046"
      ]
     },
     "metadata": {},
     "output_type": "display_data"
    },
    {
     "data": {
      "text/plain": [
       "0.7532013011075884"
      ]
     },
     "metadata": {},
     "output_type": "display_data"
    }
   ],
   "source": [
    "# Calculate proportions\n",
    "pc_control = completed_clients_control / nc_control\n",
    "pc_test = completed_clients_test / nc_test\n",
    "\n",
    "display(pc_control)\n",
    "display(pc_test)"
   ]
  },
  {
   "cell_type": "code",
   "execution_count": 11,
   "id": "4986245f-2d03-4907-a6f4-e9ae461ef010",
   "metadata": {},
   "outputs": [],
   "source": [
    "# Pooled proportion\n",
    "pooled_pc = (completed_clients_test + completed_clients_control) / (nc_test + nc_control)"
   ]
  },
  {
   "cell_type": "code",
   "execution_count": 12,
   "id": "0736f27d-31c4-43cd-afa2-4a4c8594fc46",
   "metadata": {},
   "outputs": [
    {
     "name": "stdout",
     "output_type": "stream",
     "text": [
      "0.1847315286322637\n"
     ]
    }
   ],
   "source": [
    "# Standard error\n",
    "se = np.sqrt(pooled_p * (1 - pooled_pc) * (1 / nc_test + 1 / nc_control))\n",
    "\n",
    "# Z-Statistic\n",
    "zc_stat = (pc_test - pc_control) / se\n",
    "print(z_stat)"
   ]
  },
  {
   "cell_type": "code",
   "execution_count": 13,
   "id": "fa52ce6b-ca07-4e61-b960-e223e93fe21c",
   "metadata": {},
   "outputs": [],
   "source": [
    "# One-tailed p-value\n",
    "pc_value = 1 - norm.cdf(zc_stat)"
   ]
  },
  {
   "cell_type": "code",
   "execution_count": 14,
   "id": "5e74c464-2483-43bb-974e-ca4cc9581652",
   "metadata": {},
   "outputs": [
    {
     "name": "stdout",
     "output_type": "stream",
     "text": [
      "The result is not statistically significant (p = 0.6416). Fail to reject the null hypothesis.\n"
     ]
    }
   ],
   "source": [
    "alpha = 0.05  # Significance level\n",
    "\n",
    "if pc_value < alpha:\n",
    "    print(f\"The result is statistically significant (p = {pc_value:.4f}). Reject the null hypothesis.\")\n",
    "else:\n",
    "    print(f\"The result is not statistically significant (p = {pc_value:.4f}). Fail to reject the null hypothesis.\")"
   ]
  }
 ],
 "metadata": {
  "kernelspec": {
   "display_name": "venv",
   "language": "python",
   "name": "venv"
  },
  "language_info": {
   "codemirror_mode": {
    "name": "ipython",
    "version": 3
   },
   "file_extension": ".py",
   "mimetype": "text/x-python",
   "name": "python",
   "nbconvert_exporter": "python",
   "pygments_lexer": "ipython3",
   "version": "3.11.7"
  }
 },
 "nbformat": 4,
 "nbformat_minor": 5
}
