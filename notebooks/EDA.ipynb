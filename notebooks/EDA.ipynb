{
 "cells": [
  {
   "cell_type": "code",
   "execution_count": 1,
   "id": "e624f57a-9357-4497-9fb3-bbaee900099d",
   "metadata": {},
   "outputs": [],
   "source": [
    "import pandas as pd\n",
    "import matplotlib.pyplot as plt\n",
    "import seaborn as sns\n",
    "import numpy as np\n",
    "\n",
    "%matplotlib inline"
   ]
  },
  {
   "cell_type": "markdown",
   "id": "d57c1222-f4c8-4256-a553-3969177d27c1",
   "metadata": {},
   "source": [
    "# Dataset: Control and Test Group Classification"
   ]
  },
  {
   "cell_type": "code",
   "execution_count": 2,
   "id": "1870c3da-c721-477a-b86a-bc14073c7eb9",
   "metadata": {},
   "outputs": [
    {
     "data": {
      "text/html": [
       "<div>\n",
       "<style scoped>\n",
       "    .dataframe tbody tr th:only-of-type {\n",
       "        vertical-align: middle;\n",
       "    }\n",
       "\n",
       "    .dataframe tbody tr th {\n",
       "        vertical-align: top;\n",
       "    }\n",
       "\n",
       "    .dataframe thead th {\n",
       "        text-align: right;\n",
       "    }\n",
       "</style>\n",
       "<table border=\"1\" class=\"dataframe\">\n",
       "  <thead>\n",
       "    <tr style=\"text-align: right;\">\n",
       "      <th></th>\n",
       "      <th>client_id</th>\n",
       "      <th>Variation</th>\n",
       "    </tr>\n",
       "  </thead>\n",
       "  <tbody>\n",
       "    <tr>\n",
       "      <th>0</th>\n",
       "      <td>9988021</td>\n",
       "      <td>Test</td>\n",
       "    </tr>\n",
       "    <tr>\n",
       "      <th>1</th>\n",
       "      <td>8320017</td>\n",
       "      <td>Test</td>\n",
       "    </tr>\n",
       "    <tr>\n",
       "      <th>2</th>\n",
       "      <td>4033851</td>\n",
       "      <td>Control</td>\n",
       "    </tr>\n",
       "    <tr>\n",
       "      <th>3</th>\n",
       "      <td>1982004</td>\n",
       "      <td>Test</td>\n",
       "    </tr>\n",
       "    <tr>\n",
       "      <th>4</th>\n",
       "      <td>9294070</td>\n",
       "      <td>Control</td>\n",
       "    </tr>\n",
       "  </tbody>\n",
       "</table>\n",
       "</div>"
      ],
      "text/plain": [
       "   client_id Variation\n",
       "0    9988021      Test\n",
       "1    8320017      Test\n",
       "2    4033851   Control\n",
       "3    1982004      Test\n",
       "4    9294070   Control"
      ]
     },
     "execution_count": 2,
     "metadata": {},
     "output_type": "execute_result"
    }
   ],
   "source": [
    "df_exp = pd.read_csv('../data/raw/df_final_experiment_clients.txt')\n",
    "df_exp.head()"
   ]
  },
  {
   "cell_type": "code",
   "execution_count": 3,
   "id": "e9eb8fdd-a9c2-4a4b-8a48-5925edf786e6",
   "metadata": {},
   "outputs": [
    {
     "data": {
      "text/plain": [
       "(70609, 2)"
      ]
     },
     "execution_count": 3,
     "metadata": {},
     "output_type": "execute_result"
    }
   ],
   "source": [
    "df_exp.shape"
   ]
  },
  {
   "cell_type": "markdown",
   "id": "3ed9d6e0-82a5-4c5b-bd01-3e2910438de1",
   "metadata": {},
   "source": [
    "## Data Cleaning"
   ]
  },
  {
   "cell_type": "code",
   "execution_count": 4,
   "id": "eca46daf-bce5-49b9-8ad2-8f7f17bdddc1",
   "metadata": {},
   "outputs": [
    {
     "data": {
      "text/plain": [
       "client_id        0\n",
       "Variation    20109\n",
       "dtype: int64"
      ]
     },
     "execution_count": 4,
     "metadata": {},
     "output_type": "execute_result"
    }
   ],
   "source": [
    "# Check for null values\n",
    "df_exp.isna().sum() # Around 1/3 of the data has no information on the variation"
   ]
  },
  {
   "cell_type": "code",
   "execution_count": 5,
   "id": "0e648f42-166d-47df-adb6-4521248c32c2",
   "metadata": {},
   "outputs": [],
   "source": [
    "# Drop these rows since these clients have no further usability\n",
    "df_exp.dropna(inplace = True)"
   ]
  },
  {
   "cell_type": "code",
   "execution_count": 6,
   "id": "d4a3bfe0-54e7-4076-9a1b-a88c80faf3f1",
   "metadata": {},
   "outputs": [
    {
     "name": "stdout",
     "output_type": "stream",
     "text": [
      "0\n"
     ]
    }
   ],
   "source": [
    "# Test for duplicates\n",
    "print(df_exp['client_id'].duplicated().sum()) # no duplicates in client_id"
   ]
  },
  {
   "cell_type": "markdown",
   "id": "5be0969b-5b76-485b-aee3-c44a48c2d68b",
   "metadata": {},
   "source": [
    "## Data Visualization"
   ]
  },
  {
   "cell_type": "code",
   "execution_count": 7,
   "id": "e0f276c1-e49b-406c-89f8-ca146cc0f330",
   "metadata": {},
   "outputs": [
    {
     "name": "stdout",
     "output_type": "stream",
     "text": [
      "(26968, 2)\n",
      "(23532, 2)\n"
     ]
    }
   ],
   "source": [
    "# Size of control and test groups\n",
    "grouped = df_exp.groupby('Variation')\n",
    "print(grouped.get_group('Test').shape)\n",
    "print(grouped.get_group('Control').shape) # --> almost equally sized"
   ]
  },
  {
   "cell_type": "code",
   "execution_count": 8,
   "id": "25a59bba",
   "metadata": {},
   "outputs": [],
   "source": [
    "#df_exp.to_csv('../data/clean/client_id_variation.csv', index = False)"
   ]
  },
  {
   "cell_type": "markdown",
   "id": "40620388-930a-4a33-af63-2a5bc0424d52",
   "metadata": {},
   "source": [
    "# Dataset: Experiment Roster"
   ]
  },
  {
   "cell_type": "code",
   "execution_count": 9,
   "id": "f453658c-7f49-452e-ad58-b2c8eeb9f19e",
   "metadata": {},
   "outputs": [
    {
     "data": {
      "text/html": [
       "<div>\n",
       "<style scoped>\n",
       "    .dataframe tbody tr th:only-of-type {\n",
       "        vertical-align: middle;\n",
       "    }\n",
       "\n",
       "    .dataframe tbody tr th {\n",
       "        vertical-align: top;\n",
       "    }\n",
       "\n",
       "    .dataframe thead th {\n",
       "        text-align: right;\n",
       "    }\n",
       "</style>\n",
       "<table border=\"1\" class=\"dataframe\">\n",
       "  <thead>\n",
       "    <tr style=\"text-align: right;\">\n",
       "      <th></th>\n",
       "      <th>client_id</th>\n",
       "      <th>clnt_tenure_yr</th>\n",
       "      <th>clnt_tenure_mnth</th>\n",
       "      <th>clnt_age</th>\n",
       "      <th>gendr</th>\n",
       "      <th>num_accts</th>\n",
       "      <th>bal</th>\n",
       "      <th>calls_6_mnth</th>\n",
       "      <th>logons_6_mnth</th>\n",
       "    </tr>\n",
       "  </thead>\n",
       "  <tbody>\n",
       "    <tr>\n",
       "      <th>0</th>\n",
       "      <td>836976</td>\n",
       "      <td>6.0</td>\n",
       "      <td>73.0</td>\n",
       "      <td>60.5</td>\n",
       "      <td>U</td>\n",
       "      <td>2.0</td>\n",
       "      <td>45105.30</td>\n",
       "      <td>6.0</td>\n",
       "      <td>9.0</td>\n",
       "    </tr>\n",
       "    <tr>\n",
       "      <th>1</th>\n",
       "      <td>2304905</td>\n",
       "      <td>7.0</td>\n",
       "      <td>94.0</td>\n",
       "      <td>58.0</td>\n",
       "      <td>U</td>\n",
       "      <td>2.0</td>\n",
       "      <td>110860.30</td>\n",
       "      <td>6.0</td>\n",
       "      <td>9.0</td>\n",
       "    </tr>\n",
       "    <tr>\n",
       "      <th>2</th>\n",
       "      <td>1439522</td>\n",
       "      <td>5.0</td>\n",
       "      <td>64.0</td>\n",
       "      <td>32.0</td>\n",
       "      <td>U</td>\n",
       "      <td>2.0</td>\n",
       "      <td>52467.79</td>\n",
       "      <td>6.0</td>\n",
       "      <td>9.0</td>\n",
       "    </tr>\n",
       "    <tr>\n",
       "      <th>3</th>\n",
       "      <td>1562045</td>\n",
       "      <td>16.0</td>\n",
       "      <td>198.0</td>\n",
       "      <td>49.0</td>\n",
       "      <td>M</td>\n",
       "      <td>2.0</td>\n",
       "      <td>67454.65</td>\n",
       "      <td>3.0</td>\n",
       "      <td>6.0</td>\n",
       "    </tr>\n",
       "    <tr>\n",
       "      <th>4</th>\n",
       "      <td>5126305</td>\n",
       "      <td>12.0</td>\n",
       "      <td>145.0</td>\n",
       "      <td>33.0</td>\n",
       "      <td>F</td>\n",
       "      <td>2.0</td>\n",
       "      <td>103671.75</td>\n",
       "      <td>0.0</td>\n",
       "      <td>3.0</td>\n",
       "    </tr>\n",
       "  </tbody>\n",
       "</table>\n",
       "</div>"
      ],
      "text/plain": [
       "   client_id  clnt_tenure_yr  clnt_tenure_mnth  clnt_age gendr  num_accts  \\\n",
       "0     836976             6.0              73.0      60.5     U        2.0   \n",
       "1    2304905             7.0              94.0      58.0     U        2.0   \n",
       "2    1439522             5.0              64.0      32.0     U        2.0   \n",
       "3    1562045            16.0             198.0      49.0     M        2.0   \n",
       "4    5126305            12.0             145.0      33.0     F        2.0   \n",
       "\n",
       "         bal  calls_6_mnth  logons_6_mnth  \n",
       "0   45105.30           6.0            9.0  \n",
       "1  110860.30           6.0            9.0  \n",
       "2   52467.79           6.0            9.0  \n",
       "3   67454.65           3.0            6.0  \n",
       "4  103671.75           0.0            3.0  "
      ]
     },
     "execution_count": 9,
     "metadata": {},
     "output_type": "execute_result"
    }
   ],
   "source": [
    "df_demo = pd.read_csv('../data/raw/df_final_demo.txt')\n",
    "df_demo.head()"
   ]
  },
  {
   "cell_type": "code",
   "execution_count": 10,
   "id": "c762ee14-e4b2-4af3-b9ad-475a69cbde61",
   "metadata": {},
   "outputs": [
    {
     "data": {
      "text/plain": [
       "(70609, 9)"
      ]
     },
     "execution_count": 10,
     "metadata": {},
     "output_type": "execute_result"
    }
   ],
   "source": [
    "df_demo.shape"
   ]
  },
  {
   "cell_type": "code",
   "execution_count": 11,
   "id": "2d6252bf-49c0-44bc-bba6-df54c64deceb",
   "metadata": {},
   "outputs": [
    {
     "data": {
      "text/plain": [
       "client_id             int64\n",
       "clnt_tenure_yr      float64\n",
       "clnt_tenure_mnth    float64\n",
       "clnt_age            float64\n",
       "gendr                object\n",
       "num_accts           float64\n",
       "bal                 float64\n",
       "calls_6_mnth        float64\n",
       "logons_6_mnth       float64\n",
       "dtype: object"
      ]
     },
     "execution_count": 11,
     "metadata": {},
     "output_type": "execute_result"
    }
   ],
   "source": [
    "df_demo.dtypes # everything is ok"
   ]
  },
  {
   "cell_type": "markdown",
   "id": "44ab13ea-1c77-46aa-b36a-aeeaf6e8059c",
   "metadata": {},
   "source": [
    "# Data Cleaning"
   ]
  },
  {
   "cell_type": "code",
   "execution_count": 12,
   "id": "499e2a5d-2fa4-4335-ab14-d9cc2681e119",
   "metadata": {},
   "outputs": [
    {
     "data": {
      "text/plain": [
       "Index(['client_id', 'clnt_tenure_yr', 'clnt_tenure_mnth', 'clnt_age', 'gendr',\n",
       "       'num_accts', 'bal', 'calls_6_mnth', 'logons_6_mnth'],\n",
       "      dtype='object')"
      ]
     },
     "execution_count": 12,
     "metadata": {},
     "output_type": "execute_result"
    }
   ],
   "source": [
    "df_demo.columns"
   ]
  },
  {
   "cell_type": "code",
   "execution_count": 13,
   "id": "6963ec1f-05fb-4530-9742-876380838eed",
   "metadata": {},
   "outputs": [],
   "source": [
    "# Rename the columns for understandability\n",
    "replacements = {'clnt_tenure_yr': 'client_tenure_year', \n",
    "                'clnt_tenure_mnth': 'client_tenure_month', \n",
    "                'clnt_age': 'client_age', \n",
    "                'gendr': 'gender',\n",
    "                'num_accts': 'account_number', \n",
    "                'bal': 'balance', \n",
    "                'calls_6_mnth': 'calls_6_months', \n",
    "                'logons_6_mnth': 'logons_6_months'}\n",
    "df_demo.rename(columns= replacements, inplace=True)"
   ]
  },
  {
   "cell_type": "markdown",
   "id": "89160069-76f8-42bc-8a88-1a2691f84f5a",
   "metadata": {},
   "source": [
    "**clnt_tenure_yr:** Represents how long the client has been with Vanguard, measured in years.\n",
    "\n",
    "**clnt_tenure_mnth:** Further breaks down the client’s tenure with Vanguard in months.\n",
    "\n",
    "**clnt_age:** Indicates the age of the client.\n",
    "\n",
    "**gendr:** Specifies the client’s gender.\n",
    "\n",
    "**num_accts:** Denotes the number of accounts the client holds with Vanguard.\n",
    "\n",
    "**bal:** Gives the total balance spread across all accounts for a particular client.\n",
    "\n",
    "**calls_6_mnth:** Records the number of times the client reached out over a call in the past six months.\n",
    "\n",
    "**logons_6_mnth:** Reflects the frequency with which the client logged onto Vanguard’s platform over the last six months."
   ]
  },
  {
   "cell_type": "code",
   "execution_count": 14,
   "id": "79b66c63-7111-447c-ab47-6763e6b2da88",
   "metadata": {},
   "outputs": [
    {
     "data": {
      "text/plain": [
       "client_id               0\n",
       "client_tenure_year     14\n",
       "client_tenure_month    14\n",
       "client_age             15\n",
       "gender                 14\n",
       "account_number         14\n",
       "balance                14\n",
       "calls_6_months         14\n",
       "logons_6_months        14\n",
       "dtype: int64"
      ]
     },
     "execution_count": 14,
     "metadata": {},
     "output_type": "execute_result"
    }
   ],
   "source": [
    "# Check for null values\n",
    "df_demo.isna().sum()"
   ]
  },
  {
   "cell_type": "code",
   "execution_count": 15,
   "id": "fb5a186c-595c-46dd-a1f1-8c3434b970b4",
   "metadata": {},
   "outputs": [],
   "source": [
    "df_demo.dropna(inplace = True)"
   ]
  },
  {
   "cell_type": "code",
   "execution_count": 16,
   "id": "6ed05059-c403-4d81-8529-e43e323a70a5",
   "metadata": {},
   "outputs": [
    {
     "data": {
      "text/plain": [
       "(70594, 9)"
      ]
     },
     "execution_count": 16,
     "metadata": {},
     "output_type": "execute_result"
    }
   ],
   "source": [
    "df_demo.shape # dropped 15 rows"
   ]
  },
  {
   "cell_type": "code",
   "execution_count": 17,
   "id": "99d4287d-9ae6-4419-a305-0860bc8422af",
   "metadata": {},
   "outputs": [
    {
     "name": "stdout",
     "output_type": "stream",
     "text": [
      "0\n"
     ]
    }
   ],
   "source": [
    "# Test for duplicates\n",
    "print(df_exp['client_id'].duplicated().sum()) # no duplicates"
   ]
  },
  {
   "cell_type": "markdown",
   "id": "4a1dc0b8-2d94-4596-b90e-a5e7935f9da7",
   "metadata": {},
   "source": [
    "## Categorical Variables"
   ]
  },
  {
   "cell_type": "markdown",
   "id": "808291bf-bc46-42fc-96e7-b9637d04d69a",
   "metadata": {},
   "source": [
    "**Gender**"
   ]
  },
  {
   "cell_type": "code",
   "execution_count": 18,
   "id": "53514dbd-7b29-403c-8156-1da22e7373dd",
   "metadata": {},
   "outputs": [
    {
     "data": {
      "image/png": "[encoded data removed]",
      "text/plain": [
       "<Figure size 640x480 with 1 Axes>"
      ]
     },
     "metadata": {},
     "output_type": "display_data"
    }
   ],
   "source": [
    "gt = df_demo['gender'].value_counts()\n",
    "sns.barplot(hue = gt.index, y = gt.values, palette = \"Set3\");"
   ]
  },
  {
   "cell_type": "markdown",
   "id": "cb192ff4-eb25-4971-93e0-47c329e7ea22",
   "metadata": {},
   "source": [
    "# Numerical Variables"
   ]
  },
  {
   "cell_type": "code",
   "execution_count": 19,
   "id": "d2c69dbe-2cda-4310-8f9f-8ba664694f30",
   "metadata": {},
   "outputs": [
    {
     "data": {
      "text/html": [
       "<div>\n",
       "<style scoped>\n",
       "    .dataframe tbody tr th:only-of-type {\n",
       "        vertical-align: middle;\n",
       "    }\n",
       "\n",
       "    .dataframe tbody tr th {\n",
       "        vertical-align: top;\n",
       "    }\n",
       "\n",
       "    .dataframe thead th {\n",
       "        text-align: right;\n",
       "    }\n",
       "</style>\n",
       "<table border=\"1\" class=\"dataframe\">\n",
       "  <thead>\n",
       "    <tr style=\"text-align: right;\">\n",
       "      <th></th>\n",
       "      <th>client_id</th>\n",
       "      <th>client_tenure_year</th>\n",
       "      <th>client_tenure_month</th>\n",
       "      <th>client_age</th>\n",
       "      <th>account_number</th>\n",
       "      <th>balance</th>\n",
       "      <th>calls_6_months</th>\n",
       "      <th>logons_6_months</th>\n",
       "    </tr>\n",
       "  </thead>\n",
       "  <tbody>\n",
       "    <tr>\n",
       "      <th>count</th>\n",
       "      <td>7.059400e+04</td>\n",
       "      <td>70594.000000</td>\n",
       "      <td>70594.000000</td>\n",
       "      <td>70594.000000</td>\n",
       "      <td>70594.000000</td>\n",
       "      <td>7.059400e+04</td>\n",
       "      <td>70594.000000</td>\n",
       "      <td>70594.000000</td>\n",
       "    </tr>\n",
       "    <tr>\n",
       "      <th>mean</th>\n",
       "      <td>5.005026e+06</td>\n",
       "      <td>12.053007</td>\n",
       "      <td>150.659999</td>\n",
       "      <td>46.442240</td>\n",
       "      <td>2.255532</td>\n",
       "      <td>1.474467e+05</td>\n",
       "      <td>3.382469</td>\n",
       "      <td>5.566720</td>\n",
       "    </tr>\n",
       "    <tr>\n",
       "      <th>std</th>\n",
       "      <td>2.877289e+06</td>\n",
       "      <td>6.871850</td>\n",
       "      <td>82.090264</td>\n",
       "      <td>15.591273</td>\n",
       "      <td>0.535000</td>\n",
       "      <td>3.015106e+05</td>\n",
       "      <td>2.236595</td>\n",
       "      <td>2.353296</td>\n",
       "    </tr>\n",
       "    <tr>\n",
       "      <th>min</th>\n",
       "      <td>1.690000e+02</td>\n",
       "      <td>2.000000</td>\n",
       "      <td>33.000000</td>\n",
       "      <td>13.500000</td>\n",
       "      <td>1.000000</td>\n",
       "      <td>1.378942e+04</td>\n",
       "      <td>0.000000</td>\n",
       "      <td>1.000000</td>\n",
       "    </tr>\n",
       "    <tr>\n",
       "      <th>25%</th>\n",
       "      <td>2.519543e+06</td>\n",
       "      <td>6.000000</td>\n",
       "      <td>82.000000</td>\n",
       "      <td>32.500000</td>\n",
       "      <td>2.000000</td>\n",
       "      <td>3.734660e+04</td>\n",
       "      <td>1.000000</td>\n",
       "      <td>4.000000</td>\n",
       "    </tr>\n",
       "    <tr>\n",
       "      <th>50%</th>\n",
       "      <td>5.016974e+06</td>\n",
       "      <td>11.000000</td>\n",
       "      <td>136.000000</td>\n",
       "      <td>47.000000</td>\n",
       "      <td>2.000000</td>\n",
       "      <td>6.333459e+04</td>\n",
       "      <td>3.000000</td>\n",
       "      <td>5.000000</td>\n",
       "    </tr>\n",
       "    <tr>\n",
       "      <th>75%</th>\n",
       "      <td>7.483074e+06</td>\n",
       "      <td>16.000000</td>\n",
       "      <td>192.000000</td>\n",
       "      <td>59.000000</td>\n",
       "      <td>2.000000</td>\n",
       "      <td>1.375461e+05</td>\n",
       "      <td>6.000000</td>\n",
       "      <td>7.000000</td>\n",
       "    </tr>\n",
       "    <tr>\n",
       "      <th>max</th>\n",
       "      <td>9.999839e+06</td>\n",
       "      <td>62.000000</td>\n",
       "      <td>749.000000</td>\n",
       "      <td>96.000000</td>\n",
       "      <td>8.000000</td>\n",
       "      <td>1.632004e+07</td>\n",
       "      <td>7.000000</td>\n",
       "      <td>9.000000</td>\n",
       "    </tr>\n",
       "  </tbody>\n",
       "</table>\n",
       "</div>"
      ],
      "text/plain": [
       "          client_id  client_tenure_year  client_tenure_month    client_age  \\\n",
       "count  7.059400e+04        70594.000000         70594.000000  70594.000000   \n",
       "mean   5.005026e+06           12.053007           150.659999     46.442240   \n",
       "std    2.877289e+06            6.871850            82.090264     15.591273   \n",
       "min    1.690000e+02            2.000000            33.000000     13.500000   \n",
       "25%    2.519543e+06            6.000000            82.000000     32.500000   \n",
       "50%    5.016974e+06           11.000000           136.000000     47.000000   \n",
       "75%    7.483074e+06           16.000000           192.000000     59.000000   \n",
       "max    9.999839e+06           62.000000           749.000000     96.000000   \n",
       "\n",
       "       account_number       balance  calls_6_months  logons_6_months  \n",
       "count    70594.000000  7.059400e+04    70594.000000     70594.000000  \n",
       "mean         2.255532  1.474467e+05        3.382469         5.566720  \n",
       "std          0.535000  3.015106e+05        2.236595         2.353296  \n",
       "min          1.000000  1.378942e+04        0.000000         1.000000  \n",
       "25%          2.000000  3.734660e+04        1.000000         4.000000  \n",
       "50%          2.000000  6.333459e+04        3.000000         5.000000  \n",
       "75%          2.000000  1.375461e+05        6.000000         7.000000  \n",
       "max          8.000000  1.632004e+07        7.000000         9.000000  "
      ]
     },
     "execution_count": 19,
     "metadata": {},
     "output_type": "execute_result"
    }
   ],
   "source": [
    "# Get the mean, median and std of the numerical values in one table (client_id doesn't make sense here)\n",
    "df_demo.select_dtypes('number').describe()"
   ]
  },
  {
   "cell_type": "markdown",
   "id": "663c8396-6ac9-4b3f-a81b-63cfbe82b137",
   "metadata": {},
   "source": [
    "*Who are the primary clients using this online process?*\n",
    "\n",
    "The \"average\" (actually median) client has a tenure of 11 years, is 48.5 years old, has 2 accounts, has called 3 times, and has logged in 6 times in the last 6 months. The average account balance is 150,000; 50 procent of clients have an account balance below and 50 procent above 66,000.\n",
    "\n",
    "**Client Tenure**"
   ]
  },
  {
   "cell_type": "code",
   "execution_count": 20,
   "id": "ed50c2f6-d95f-49b9-8d5d-5dc57d50525c",
   "metadata": {},
   "outputs": [
    {
     "data": {
      "image/png": "[encoded data removed]",
      "text/plain": [
       "<Figure size 640x480 with 1 Axes>"
      ]
     },
     "metadata": {},
     "output_type": "display_data"
    }
   ],
   "source": [
    "sns.histplot(df_demo['client_tenure_year'], kde = True, bins = 30, color = \"salmon\");"
   ]
  },
  {
   "cell_type": "markdown",
   "id": "1d7a08d1-95c8-4cbd-a369-3736dc54972e",
   "metadata": {},
   "source": [
    "The histogram reveals that there are two peaks in the tenure of clients, which lie at 5 and 15 years."
   ]
  },
  {
   "cell_type": "code",
   "execution_count": 21,
   "id": "1fa0f45a-5509-471e-b781-d06f6e02bd23",
   "metadata": {},
   "outputs": [
    {
     "data": {
      "image/png": "[encoded data removed]",
      "text/plain": [
       "<Figure size 640x480 with 1 Axes>"
      ]
     },
     "metadata": {},
     "output_type": "display_data"
    }
   ],
   "source": [
    "sns.boxplot(data = df_demo['client_tenure_year'], color = 'salmon');"
   ]
  },
  {
   "cell_type": "markdown",
   "id": "ee40e586-0b66-480f-ab0a-66e617c4edfc",
   "metadata": {},
   "source": [
    "The boxplot shows that there are a lot of upper outliers, indicating that there are a few clients that have been with Vanguard for even 40 to 60 years."
   ]
  },
  {
   "cell_type": "code",
   "execution_count": 22,
   "id": "10944892-aa20-414a-b9bc-8da3013a913c",
   "metadata": {},
   "outputs": [
    {
     "name": "stdout",
     "output_type": "stream",
     "text": [
      "1.0366247018480386\n",
      "1.0709232170805043\n"
     ]
    }
   ],
   "source": [
    "print(df_demo['client_tenure_year'].skew()) \n",
    "print(df_demo['client_tenure_year'].kurtosis())"
   ]
  },
  {
   "cell_type": "markdown",
   "id": "f79bfe3b-906a-4ede-a9bf-cdb6ff26dac9",
   "metadata": {},
   "source": [
    "The positive skew value illustrates that the distribution is asymmetric and right-skewed.\n",
    "\n",
    "The kurtosis value (< 3) illustrates that the age distribution has lighter tails and a heaver peak than the normal distribution."
   ]
  },
  {
   "cell_type": "markdown",
   "id": "caeda84e-6cf2-49af-8c8c-d96ed77cf846",
   "metadata": {},
   "source": [
    "**Client Age**"
   ]
  },
  {
   "cell_type": "code",
   "execution_count": 23,
   "id": "952fbde8-929f-44c9-825c-f09c56b9a0ed",
   "metadata": {},
   "outputs": [
    {
     "data": {
      "image/png": "[encoded data removed]",
      "text/plain": [
       "<Figure size 640x480 with 1 Axes>"
      ]
     },
     "metadata": {},
     "output_type": "display_data"
    }
   ],
   "source": [
    "sns.histplot(df_demo['client_age'], kde = True, bins = 30, color = \"lightblue\");"
   ]
  },
  {
   "cell_type": "markdown",
   "id": "a618f788-4dfd-4f18-8a0d-0225ee51bb06",
   "metadata": {},
   "source": [
    "The histogram reveals that there are two peaks in the districution, which lie at 30 and 60 years."
   ]
  },
  {
   "cell_type": "code",
   "execution_count": 24,
   "id": "7a68b75c-dc1c-4ea7-8a27-45a17c6fb04e",
   "metadata": {},
   "outputs": [
    {
     "data": {
      "image/png": "[encoded data removed]",
      "text/plain": [
       "<Figure size 640x480 with 1 Axes>"
      ]
     },
     "metadata": {},
     "output_type": "display_data"
    }
   ],
   "source": [
    "sns.boxplot(data = df_demo['client_age'], color = 'lightblue');"
   ]
  },
  {
   "cell_type": "markdown",
   "id": "ef492787-da68-49e2-a04a-bfc7f08ae17e",
   "metadata": {},
   "source": [
    "The box plot shows that there are no outliers."
   ]
  },
  {
   "cell_type": "code",
   "execution_count": 25,
   "id": "5a05ddcb-bed2-4746-9bd0-df406b7c42d0",
   "metadata": {},
   "outputs": [
    {
     "name": "stdout",
     "output_type": "stream",
     "text": [
      "0.08182349158703761\n",
      "-0.9271048487356293\n"
     ]
    }
   ],
   "source": [
    "print(df_demo['client_age'].skew()) \n",
    "print(df_demo['client_age'].kurtosis())"
   ]
  },
  {
   "cell_type": "markdown",
   "id": "06d39fa3-8c93-4d4f-a9d2-d59b521dbfe8",
   "metadata": {},
   "source": [
    "The almost zero skew value illustrates that the distribution is almost not skewed, and highly symmetric.\n",
    "\n",
    "The extremely small kurtosis value (< 3) illustrates that the age distribution has way lighter tails and a way heaver peak than the normal distribution."
   ]
  },
  {
   "cell_type": "markdown",
   "id": "c6870969-db2a-4109-b3d3-237b49021752",
   "metadata": {},
   "source": [
    "# Merge Datasets\n",
    "There are some clients in the test and control group for whom we dont have additional data. We want to exclude them from the whole project to be consistent. Therefore we peform an inner instead of a left merge."
   ]
  },
  {
   "cell_type": "code",
   "execution_count": 26,
   "id": "9ba6b376-d545-4910-bdf8-d178b003193f",
   "metadata": {},
   "outputs": [
    {
     "data": {
      "text/html": [
       "<div>\n",
       "<style scoped>\n",
       "    .dataframe tbody tr th:only-of-type {\n",
       "        vertical-align: middle;\n",
       "    }\n",
       "\n",
       "    .dataframe tbody tr th {\n",
       "        vertical-align: top;\n",
       "    }\n",
       "\n",
       "    .dataframe thead th {\n",
       "        text-align: right;\n",
       "    }\n",
       "</style>\n",
       "<table border=\"1\" class=\"dataframe\">\n",
       "  <thead>\n",
       "    <tr style=\"text-align: right;\">\n",
       "      <th></th>\n",
       "      <th>client_id</th>\n",
       "      <th>Variation</th>\n",
       "      <th>client_tenure_year</th>\n",
       "      <th>client_tenure_month</th>\n",
       "      <th>client_age</th>\n",
       "      <th>gender</th>\n",
       "      <th>account_number</th>\n",
       "      <th>balance</th>\n",
       "      <th>calls_6_months</th>\n",
       "      <th>logons_6_months</th>\n",
       "    </tr>\n",
       "  </thead>\n",
       "  <tbody>\n",
       "    <tr>\n",
       "      <th>0</th>\n",
       "      <td>9988021</td>\n",
       "      <td>Test</td>\n",
       "      <td>5.0</td>\n",
       "      <td>64.0</td>\n",
       "      <td>79.0</td>\n",
       "      <td>U</td>\n",
       "      <td>2.0</td>\n",
       "      <td>189023.86</td>\n",
       "      <td>1.0</td>\n",
       "      <td>4.0</td>\n",
       "    </tr>\n",
       "    <tr>\n",
       "      <th>1</th>\n",
       "      <td>8320017</td>\n",
       "      <td>Test</td>\n",
       "      <td>22.0</td>\n",
       "      <td>274.0</td>\n",
       "      <td>34.5</td>\n",
       "      <td>M</td>\n",
       "      <td>2.0</td>\n",
       "      <td>36001.90</td>\n",
       "      <td>5.0</td>\n",
       "      <td>8.0</td>\n",
       "    </tr>\n",
       "    <tr>\n",
       "      <th>2</th>\n",
       "      <td>4033851</td>\n",
       "      <td>Control</td>\n",
       "      <td>12.0</td>\n",
       "      <td>149.0</td>\n",
       "      <td>63.5</td>\n",
       "      <td>M</td>\n",
       "      <td>2.0</td>\n",
       "      <td>142642.26</td>\n",
       "      <td>5.0</td>\n",
       "      <td>8.0</td>\n",
       "    </tr>\n",
       "    <tr>\n",
       "      <th>3</th>\n",
       "      <td>1982004</td>\n",
       "      <td>Test</td>\n",
       "      <td>6.0</td>\n",
       "      <td>80.0</td>\n",
       "      <td>44.5</td>\n",
       "      <td>U</td>\n",
       "      <td>2.0</td>\n",
       "      <td>30231.76</td>\n",
       "      <td>1.0</td>\n",
       "      <td>4.0</td>\n",
       "    </tr>\n",
       "    <tr>\n",
       "      <th>4</th>\n",
       "      <td>9294070</td>\n",
       "      <td>Control</td>\n",
       "      <td>5.0</td>\n",
       "      <td>70.0</td>\n",
       "      <td>29.0</td>\n",
       "      <td>U</td>\n",
       "      <td>2.0</td>\n",
       "      <td>34254.54</td>\n",
       "      <td>0.0</td>\n",
       "      <td>3.0</td>\n",
       "    </tr>\n",
       "  </tbody>\n",
       "</table>\n",
       "</div>"
      ],
      "text/plain": [
       "   client_id Variation  client_tenure_year  client_tenure_month  client_age  \\\n",
       "0    9988021      Test                 5.0                 64.0        79.0   \n",
       "1    8320017      Test                22.0                274.0        34.5   \n",
       "2    4033851   Control                12.0                149.0        63.5   \n",
       "3    1982004      Test                 6.0                 80.0        44.5   \n",
       "4    9294070   Control                 5.0                 70.0        29.0   \n",
       "\n",
       "  gender  account_number    balance  calls_6_months  logons_6_months  \n",
       "0      U             2.0  189023.86             1.0              4.0  \n",
       "1      M             2.0   36001.90             5.0              8.0  \n",
       "2      M             2.0  142642.26             5.0              8.0  \n",
       "3      U             2.0   30231.76             1.0              4.0  \n",
       "4      U             2.0   34254.54             0.0              3.0  "
      ]
     },
     "execution_count": 26,
     "metadata": {},
     "output_type": "execute_result"
    }
   ],
   "source": [
    "df_tot = pd.merge(df_exp, df_demo, on = 'client_id', how = 'inner')\n",
    "df_tot.head()"
   ]
  },
  {
   "cell_type": "code",
   "execution_count": 27,
   "id": "aeab89b2-6ae4-4760-bb3e-52043485d5c1",
   "metadata": {},
   "outputs": [
    {
     "data": {
      "text/plain": [
       "(50487, 10)"
      ]
     },
     "execution_count": 27,
     "metadata": {},
     "output_type": "execute_result"
    }
   ],
   "source": [
    "df_tot.shape"
   ]
  },
  {
   "cell_type": "code",
   "execution_count": 28,
   "id": "fe79ce21-318a-4709-be23-1e3d9ac5ac01",
   "metadata": {},
   "outputs": [
    {
     "data": {
      "text/plain": [
       "client_id              0\n",
       "Variation              0\n",
       "client_tenure_year     0\n",
       "client_tenure_month    0\n",
       "client_age             0\n",
       "gender                 0\n",
       "account_number         0\n",
       "balance                0\n",
       "calls_6_months         0\n",
       "logons_6_months        0\n",
       "dtype: int64"
      ]
     },
     "execution_count": 28,
     "metadata": {},
     "output_type": "execute_result"
    }
   ],
   "source": [
    "df_tot.isna().sum()"
   ]
  },
  {
   "cell_type": "code",
   "execution_count": 29,
   "id": "6b1f4710-8064-4139-8a85-e4523b562867",
   "metadata": {},
   "outputs": [],
   "source": [
    "df_tot.to_csv('../data/clean/total_client_info.csv', index=False)"
   ]
  },
  {
   "cell_type": "markdown",
   "id": "713a59fd",
   "metadata": {},
   "source": [
    "# Split Datasets"
   ]
  },
  {
   "cell_type": "code",
   "execution_count": 110,
   "id": "ff67f0aa",
   "metadata": {},
   "outputs": [
    {
     "name": "stdout",
     "output_type": "stream",
     "text": [
      "The history saving thread hit an unexpected error (OperationalError('attempt to write a readonly database')).History will not be written to the database.\n"
     ]
    },
    {
     "data": {
      "text/html": [
       "<div>\n",
       "<style scoped>\n",
       "    .dataframe tbody tr th:only-of-type {\n",
       "        vertical-align: middle;\n",
       "    }\n",
       "\n",
       "    .dataframe tbody tr th {\n",
       "        vertical-align: top;\n",
       "    }\n",
       "\n",
       "    .dataframe thead th {\n",
       "        text-align: right;\n",
       "    }\n",
       "</style>\n",
       "<table border=\"1\" class=\"dataframe\">\n",
       "  <thead>\n",
       "    <tr style=\"text-align: right;\">\n",
       "      <th></th>\n",
       "      <th>client_id</th>\n",
       "    </tr>\n",
       "  </thead>\n",
       "  <tbody>\n",
       "    <tr>\n",
       "      <th>0</th>\n",
       "      <td>1028</td>\n",
       "    </tr>\n",
       "    <tr>\n",
       "      <th>1</th>\n",
       "      <td>1104</td>\n",
       "    </tr>\n",
       "    <tr>\n",
       "      <th>2</th>\n",
       "      <td>1186</td>\n",
       "    </tr>\n",
       "    <tr>\n",
       "      <th>3</th>\n",
       "      <td>1195</td>\n",
       "    </tr>\n",
       "    <tr>\n",
       "      <th>4</th>\n",
       "      <td>1197</td>\n",
       "    </tr>\n",
       "    <tr>\n",
       "      <th>...</th>\n",
       "      <td>...</td>\n",
       "    </tr>\n",
       "    <tr>\n",
       "      <th>23521</th>\n",
       "      <td>9997125</td>\n",
       "    </tr>\n",
       "    <tr>\n",
       "      <th>23522</th>\n",
       "      <td>9997391</td>\n",
       "    </tr>\n",
       "    <tr>\n",
       "      <th>23523</th>\n",
       "      <td>9997470</td>\n",
       "    </tr>\n",
       "    <tr>\n",
       "      <th>23524</th>\n",
       "      <td>9998346</td>\n",
       "    </tr>\n",
       "    <tr>\n",
       "      <th>23525</th>\n",
       "      <td>9998921</td>\n",
       "    </tr>\n",
       "  </tbody>\n",
       "</table>\n",
       "<p>23526 rows × 1 columns</p>\n",
       "</div>"
      ],
      "text/plain": [
       "       client_id\n",
       "0           1028\n",
       "1           1104\n",
       "2           1186\n",
       "3           1195\n",
       "4           1197\n",
       "...          ...\n",
       "23521    9997125\n",
       "23522    9997391\n",
       "23523    9997470\n",
       "23524    9998346\n",
       "23525    9998921\n",
       "\n",
       "[23526 rows x 1 columns]"
      ]
     },
     "execution_count": 110,
     "metadata": {},
     "output_type": "execute_result"
    }
   ],
   "source": [
    "# Group by variation group\n",
    "control_group = df_tot.groupby('Variation').get_group('Control').sort_values(by = 'client_id')\n",
    "test_group = df_tot.groupby('Variation').get_group('Test').sort_values(by = 'client_id')\n",
    "\n",
    "# Drop variation column\n",
    "control_group = control_group[['client_id']]\n",
    "test_group = test_group[['client_id']]\n",
    "\n",
    "control_group.reset_index(inplace = True, drop = True)\n",
    "test_group.reset_index(inplace = True, drop = True)\n",
    "\n",
    "control_group # 6 rows dropped because of lacking client information"
   ]
  },
  {
   "cell_type": "code",
   "execution_count": 111,
   "id": "d154b22e",
   "metadata": {},
   "outputs": [
    {
     "data": {
      "text/html": [
       "<div>\n",
       "<style scoped>\n",
       "    .dataframe tbody tr th:only-of-type {\n",
       "        vertical-align: middle;\n",
       "    }\n",
       "\n",
       "    .dataframe tbody tr th {\n",
       "        vertical-align: top;\n",
       "    }\n",
       "\n",
       "    .dataframe thead th {\n",
       "        text-align: right;\n",
       "    }\n",
       "</style>\n",
       "<table border=\"1\" class=\"dataframe\">\n",
       "  <thead>\n",
       "    <tr style=\"text-align: right;\">\n",
       "      <th></th>\n",
       "      <th>client_id</th>\n",
       "    </tr>\n",
       "  </thead>\n",
       "  <tbody>\n",
       "    <tr>\n",
       "      <th>0</th>\n",
       "      <td>555</td>\n",
       "    </tr>\n",
       "    <tr>\n",
       "      <th>1</th>\n",
       "      <td>647</td>\n",
       "    </tr>\n",
       "    <tr>\n",
       "      <th>2</th>\n",
       "      <td>934</td>\n",
       "    </tr>\n",
       "    <tr>\n",
       "      <th>3</th>\n",
       "      <td>1336</td>\n",
       "    </tr>\n",
       "    <tr>\n",
       "      <th>4</th>\n",
       "      <td>1346</td>\n",
       "    </tr>\n",
       "    <tr>\n",
       "      <th>...</th>\n",
       "      <td>...</td>\n",
       "    </tr>\n",
       "    <tr>\n",
       "      <th>26956</th>\n",
       "      <td>9999150</td>\n",
       "    </tr>\n",
       "    <tr>\n",
       "      <th>26957</th>\n",
       "      <td>9999400</td>\n",
       "    </tr>\n",
       "    <tr>\n",
       "      <th>26958</th>\n",
       "      <td>9999626</td>\n",
       "    </tr>\n",
       "    <tr>\n",
       "      <th>26959</th>\n",
       "      <td>9999729</td>\n",
       "    </tr>\n",
       "    <tr>\n",
       "      <th>26960</th>\n",
       "      <td>9999832</td>\n",
       "    </tr>\n",
       "  </tbody>\n",
       "</table>\n",
       "<p>26961 rows × 1 columns</p>\n",
       "</div>"
      ],
      "text/plain": [
       "       client_id\n",
       "0            555\n",
       "1            647\n",
       "2            934\n",
       "3           1336\n",
       "4           1346\n",
       "...          ...\n",
       "26956    9999150\n",
       "26957    9999400\n",
       "26958    9999626\n",
       "26959    9999729\n",
       "26960    9999832\n",
       "\n",
       "[26961 rows x 1 columns]"
      ]
     },
     "execution_count": 111,
     "metadata": {},
     "output_type": "execute_result"
    }
   ],
   "source": [
    "test_group # 7 rows dropped because of lacking client information"
   ]
  },
  {
   "cell_type": "code",
   "execution_count": null,
   "id": "8e911444",
   "metadata": {},
   "outputs": [],
   "source": [
    "test_group.to_csv('../data/clean/client_id_test.csv', index=False)\n",
    "control_group.to_csv('../data/clean/client_id_control.csv', index=False)"
   ]
  },
  {
   "cell_type": "markdown",
   "id": "62f52c6f",
   "metadata": {},
   "source": [
    "# Control vs. Test Group"
   ]
  },
  {
   "cell_type": "code",
   "execution_count": 33,
   "id": "be2f30c7",
   "metadata": {},
   "outputs": [
    {
     "data": {
      "text/html": [
       "<div>\n",
       "<style scoped>\n",
       "    .dataframe tbody tr th:only-of-type {\n",
       "        vertical-align: middle;\n",
       "    }\n",
       "\n",
       "    .dataframe tbody tr th {\n",
       "        vertical-align: top;\n",
       "    }\n",
       "\n",
       "    .dataframe thead th {\n",
       "        text-align: right;\n",
       "    }\n",
       "</style>\n",
       "<table border=\"1\" class=\"dataframe\">\n",
       "  <thead>\n",
       "    <tr style=\"text-align: right;\">\n",
       "      <th></th>\n",
       "      <th>client_id</th>\n",
       "      <th>Variation</th>\n",
       "      <th>client_tenure_year</th>\n",
       "      <th>client_tenure_month</th>\n",
       "      <th>client_age</th>\n",
       "      <th>gender</th>\n",
       "      <th>account_number</th>\n",
       "      <th>balance</th>\n",
       "      <th>calls_6_months</th>\n",
       "      <th>logons_6_months</th>\n",
       "    </tr>\n",
       "  </thead>\n",
       "  <tbody>\n",
       "    <tr>\n",
       "      <th>0</th>\n",
       "      <td>4033851</td>\n",
       "      <td>Control</td>\n",
       "      <td>12.0</td>\n",
       "      <td>149.0</td>\n",
       "      <td>63.5</td>\n",
       "      <td>M</td>\n",
       "      <td>2.0</td>\n",
       "      <td>142642.26</td>\n",
       "      <td>5.0</td>\n",
       "      <td>8.0</td>\n",
       "    </tr>\n",
       "    <tr>\n",
       "      <th>1</th>\n",
       "      <td>9294070</td>\n",
       "      <td>Control</td>\n",
       "      <td>5.0</td>\n",
       "      <td>70.0</td>\n",
       "      <td>29.0</td>\n",
       "      <td>U</td>\n",
       "      <td>2.0</td>\n",
       "      <td>34254.54</td>\n",
       "      <td>0.0</td>\n",
       "      <td>3.0</td>\n",
       "    </tr>\n",
       "    <tr>\n",
       "      <th>2</th>\n",
       "      <td>6651403</td>\n",
       "      <td>Control</td>\n",
       "      <td>13.0</td>\n",
       "      <td>162.0</td>\n",
       "      <td>56.5</td>\n",
       "      <td>M</td>\n",
       "      <td>2.0</td>\n",
       "      <td>324712.88</td>\n",
       "      <td>4.0</td>\n",
       "      <td>7.0</td>\n",
       "    </tr>\n",
       "    <tr>\n",
       "      <th>3</th>\n",
       "      <td>2105948</td>\n",
       "      <td>Control</td>\n",
       "      <td>6.0</td>\n",
       "      <td>74.0</td>\n",
       "      <td>61.5</td>\n",
       "      <td>U</td>\n",
       "      <td>2.0</td>\n",
       "      <td>39795.28</td>\n",
       "      <td>1.0</td>\n",
       "      <td>4.0</td>\n",
       "    </tr>\n",
       "    <tr>\n",
       "      <th>4</th>\n",
       "      <td>9814849</td>\n",
       "      <td>Control</td>\n",
       "      <td>12.0</td>\n",
       "      <td>149.0</td>\n",
       "      <td>32.5</td>\n",
       "      <td>F</td>\n",
       "      <td>2.0</td>\n",
       "      <td>33807.15</td>\n",
       "      <td>1.0</td>\n",
       "      <td>4.0</td>\n",
       "    </tr>\n",
       "  </tbody>\n",
       "</table>\n",
       "</div>"
      ],
      "text/plain": [
       "   client_id Variation  client_tenure_year  client_tenure_month  client_age  \\\n",
       "0    4033851   Control                12.0                149.0        63.5   \n",
       "1    9294070   Control                 5.0                 70.0        29.0   \n",
       "2    6651403   Control                13.0                162.0        56.5   \n",
       "3    2105948   Control                 6.0                 74.0        61.5   \n",
       "4    9814849   Control                12.0                149.0        32.5   \n",
       "\n",
       "  gender  account_number    balance  calls_6_months  logons_6_months  \n",
       "0      M             2.0  142642.26             5.0              8.0  \n",
       "1      U             2.0   34254.54             0.0              3.0  \n",
       "2      M             2.0  324712.88             4.0              7.0  \n",
       "3      U             2.0   39795.28             1.0              4.0  \n",
       "4      F             2.0   33807.15             1.0              4.0  "
      ]
     },
     "execution_count": 33,
     "metadata": {},
     "output_type": "execute_result"
    }
   ],
   "source": [
    "df_tot_control = df_tot[df_tot['Variation'] =='Control'].reset_index(drop = True)\n",
    "df_tot_control.head()"
   ]
  },
  {
   "cell_type": "code",
   "execution_count": 34,
   "id": "19f40730",
   "metadata": {},
   "outputs": [
    {
     "data": {
      "text/html": [
       "<div>\n",
       "<style scoped>\n",
       "    .dataframe tbody tr th:only-of-type {\n",
       "        vertical-align: middle;\n",
       "    }\n",
       "\n",
       "    .dataframe tbody tr th {\n",
       "        vertical-align: top;\n",
       "    }\n",
       "\n",
       "    .dataframe thead th {\n",
       "        text-align: right;\n",
       "    }\n",
       "</style>\n",
       "<table border=\"1\" class=\"dataframe\">\n",
       "  <thead>\n",
       "    <tr style=\"text-align: right;\">\n",
       "      <th></th>\n",
       "      <th>client_id</th>\n",
       "      <th>Variation</th>\n",
       "      <th>client_tenure_year</th>\n",
       "      <th>client_tenure_month</th>\n",
       "      <th>client_age</th>\n",
       "      <th>gender</th>\n",
       "      <th>account_number</th>\n",
       "      <th>balance</th>\n",
       "      <th>calls_6_months</th>\n",
       "      <th>logons_6_months</th>\n",
       "    </tr>\n",
       "  </thead>\n",
       "  <tbody>\n",
       "    <tr>\n",
       "      <th>0</th>\n",
       "      <td>9988021</td>\n",
       "      <td>Test</td>\n",
       "      <td>5.0</td>\n",
       "      <td>64.0</td>\n",
       "      <td>79.0</td>\n",
       "      <td>U</td>\n",
       "      <td>2.0</td>\n",
       "      <td>189023.86</td>\n",
       "      <td>1.0</td>\n",
       "      <td>4.0</td>\n",
       "    </tr>\n",
       "    <tr>\n",
       "      <th>1</th>\n",
       "      <td>8320017</td>\n",
       "      <td>Test</td>\n",
       "      <td>22.0</td>\n",
       "      <td>274.0</td>\n",
       "      <td>34.5</td>\n",
       "      <td>M</td>\n",
       "      <td>2.0</td>\n",
       "      <td>36001.90</td>\n",
       "      <td>5.0</td>\n",
       "      <td>8.0</td>\n",
       "    </tr>\n",
       "    <tr>\n",
       "      <th>2</th>\n",
       "      <td>1982004</td>\n",
       "      <td>Test</td>\n",
       "      <td>6.0</td>\n",
       "      <td>80.0</td>\n",
       "      <td>44.5</td>\n",
       "      <td>U</td>\n",
       "      <td>2.0</td>\n",
       "      <td>30231.76</td>\n",
       "      <td>1.0</td>\n",
       "      <td>4.0</td>\n",
       "    </tr>\n",
       "    <tr>\n",
       "      <th>3</th>\n",
       "      <td>9466803</td>\n",
       "      <td>Test</td>\n",
       "      <td>11.0</td>\n",
       "      <td>137.0</td>\n",
       "      <td>27.0</td>\n",
       "      <td>F</td>\n",
       "      <td>2.0</td>\n",
       "      <td>46131.19</td>\n",
       "      <td>1.0</td>\n",
       "      <td>4.0</td>\n",
       "    </tr>\n",
       "    <tr>\n",
       "      <th>4</th>\n",
       "      <td>3170143</td>\n",
       "      <td>Test</td>\n",
       "      <td>21.0</td>\n",
       "      <td>254.0</td>\n",
       "      <td>53.5</td>\n",
       "      <td>F</td>\n",
       "      <td>2.0</td>\n",
       "      <td>192109.59</td>\n",
       "      <td>6.0</td>\n",
       "      <td>9.0</td>\n",
       "    </tr>\n",
       "  </tbody>\n",
       "</table>\n",
       "</div>"
      ],
      "text/plain": [
       "   client_id Variation  client_tenure_year  client_tenure_month  client_age  \\\n",
       "0    9988021      Test                 5.0                 64.0        79.0   \n",
       "1    8320017      Test                22.0                274.0        34.5   \n",
       "2    1982004      Test                 6.0                 80.0        44.5   \n",
       "3    9466803      Test                11.0                137.0        27.0   \n",
       "4    3170143      Test                21.0                254.0        53.5   \n",
       "\n",
       "  gender  account_number    balance  calls_6_months  logons_6_months  \n",
       "0      U             2.0  189023.86             1.0              4.0  \n",
       "1      M             2.0   36001.90             5.0              8.0  \n",
       "2      U             2.0   30231.76             1.0              4.0  \n",
       "3      F             2.0   46131.19             1.0              4.0  \n",
       "4      F             2.0  192109.59             6.0              9.0  "
      ]
     },
     "execution_count": 34,
     "metadata": {},
     "output_type": "execute_result"
    }
   ],
   "source": [
    "df_tot_test = df_tot[df_tot['Variation'] =='Test'].reset_index(drop = True)\n",
    "df_tot_test.head()"
   ]
  },
  {
   "cell_type": "markdown",
   "id": "3350d07f",
   "metadata": {},
   "source": [
    "# Gender"
   ]
  },
  {
   "cell_type": "code",
   "execution_count": 35,
   "id": "703a5b4d",
   "metadata": {},
   "outputs": [
    {
     "data": {
      "text/html": [
       "<div>\n",
       "<style scoped>\n",
       "    .dataframe tbody tr th:only-of-type {\n",
       "        vertical-align: middle;\n",
       "    }\n",
       "\n",
       "    .dataframe tbody tr th {\n",
       "        vertical-align: top;\n",
       "    }\n",
       "\n",
       "    .dataframe thead th {\n",
       "        text-align: right;\n",
       "    }\n",
       "</style>\n",
       "<table border=\"1\" class=\"dataframe\">\n",
       "  <thead>\n",
       "    <tr style=\"text-align: right;\">\n",
       "      <th></th>\n",
       "      <th>Variation</th>\n",
       "      <th>gender</th>\n",
       "      <th>count</th>\n",
       "      <th>proportions</th>\n",
       "    </tr>\n",
       "  </thead>\n",
       "  <tbody>\n",
       "    <tr>\n",
       "      <th>0</th>\n",
       "      <td>Control</td>\n",
       "      <td>F</td>\n",
       "      <td>7542</td>\n",
       "      <td>0.149</td>\n",
       "    </tr>\n",
       "    <tr>\n",
       "      <th>1</th>\n",
       "      <td>Control</td>\n",
       "      <td>M</td>\n",
       "      <td>7970</td>\n",
       "      <td>0.158</td>\n",
       "    </tr>\n",
       "    <tr>\n",
       "      <th>2</th>\n",
       "      <td>Control</td>\n",
       "      <td>U</td>\n",
       "      <td>8014</td>\n",
       "      <td>0.159</td>\n",
       "    </tr>\n",
       "    <tr>\n",
       "      <th>3</th>\n",
       "      <td>Test</td>\n",
       "      <td>F</td>\n",
       "      <td>8716</td>\n",
       "      <td>0.173</td>\n",
       "    </tr>\n",
       "    <tr>\n",
       "      <th>4</th>\n",
       "      <td>Test</td>\n",
       "      <td>M</td>\n",
       "      <td>8977</td>\n",
       "      <td>0.178</td>\n",
       "    </tr>\n",
       "    <tr>\n",
       "      <th>5</th>\n",
       "      <td>Test</td>\n",
       "      <td>U</td>\n",
       "      <td>9266</td>\n",
       "      <td>0.184</td>\n",
       "    </tr>\n",
       "    <tr>\n",
       "      <th>6</th>\n",
       "      <td>Test</td>\n",
       "      <td>X</td>\n",
       "      <td>2</td>\n",
       "      <td>0.000</td>\n",
       "    </tr>\n",
       "  </tbody>\n",
       "</table>\n",
       "</div>"
      ],
      "text/plain": [
       "  Variation gender  count  proportions\n",
       "0   Control      F   7542        0.149\n",
       "1   Control      M   7970        0.158\n",
       "2   Control      U   8014        0.159\n",
       "3      Test      F   8716        0.173\n",
       "4      Test      M   8977        0.178\n",
       "5      Test      U   9266        0.184\n",
       "6      Test      X      2        0.000"
      ]
     },
     "execution_count": 35,
     "metadata": {},
     "output_type": "execute_result"
    }
   ],
   "source": [
    "gender_counts = df_tot.groupby(['Variation', 'gender']).size().reset_index(name = 'count')\n",
    "gender_counts['proportions'] = round(gender_counts['count'] / gender_counts['count'].sum(),3)\n",
    "gender_counts"
   ]
  },
  {
   "cell_type": "code",
   "execution_count": 36,
   "id": "bd3adf45",
   "metadata": {},
   "outputs": [],
   "source": [
    "#sns.barplot(data = gender_counts, x = 'gender', y = 'proportions', hue = 'Variation', palette = ['blue', 'lightblue'])"
   ]
  },
  {
   "cell_type": "markdown",
   "id": "4f603100",
   "metadata": {},
   "source": [
    "# Client Age"
   ]
  },
  {
   "cell_type": "code",
   "execution_count": 100,
   "id": "27624397",
   "metadata": {},
   "outputs": [
    {
     "data": {
      "text/html": [
       "<div>\n",
       "<style scoped>\n",
       "    .dataframe tbody tr th:only-of-type {\n",
       "        vertical-align: middle;\n",
       "    }\n",
       "\n",
       "    .dataframe tbody tr th {\n",
       "        vertical-align: top;\n",
       "    }\n",
       "\n",
       "    .dataframe thead th {\n",
       "        text-align: right;\n",
       "    }\n",
       "</style>\n",
       "<table border=\"1\" class=\"dataframe\">\n",
       "  <thead>\n",
       "    <tr style=\"text-align: right;\">\n",
       "      <th></th>\n",
       "      <th>age</th>\n",
       "      <th>kde_x</th>\n",
       "      <th>kde_y</th>\n",
       "    </tr>\n",
       "  </thead>\n",
       "  <tbody>\n",
       "    <tr>\n",
       "      <th>0</th>\n",
       "      <td>17.0</td>\n",
       "      <td>0.001937</td>\n",
       "      <td>0.001891</td>\n",
       "    </tr>\n",
       "    <tr>\n",
       "      <th>1</th>\n",
       "      <td>17.1</td>\n",
       "      <td>0.002047</td>\n",
       "      <td>0.001995</td>\n",
       "    </tr>\n",
       "    <tr>\n",
       "      <th>2</th>\n",
       "      <td>17.2</td>\n",
       "      <td>0.002161</td>\n",
       "      <td>0.002104</td>\n",
       "    </tr>\n",
       "    <tr>\n",
       "      <th>3</th>\n",
       "      <td>17.3</td>\n",
       "      <td>0.002279</td>\n",
       "      <td>0.002215</td>\n",
       "    </tr>\n",
       "    <tr>\n",
       "      <th>4</th>\n",
       "      <td>17.4</td>\n",
       "      <td>0.002400</td>\n",
       "      <td>0.002330</td>\n",
       "    </tr>\n",
       "  </tbody>\n",
       "</table>\n",
       "</div>"
      ],
      "text/plain": [
       "    age     kde_x     kde_y\n",
       "0  17.0  0.001937  0.001891\n",
       "1  17.1  0.002047  0.001995\n",
       "2  17.2  0.002161  0.002104\n",
       "3  17.3  0.002279  0.002215\n",
       "4  17.4  0.002400  0.002330"
      ]
     },
     "execution_count": 100,
     "metadata": {},
     "output_type": "execute_result"
    }
   ],
   "source": [
    "from scipy.stats import gaussian_kde\n",
    "\n",
    "kde_list_age = {}\n",
    "\n",
    "for label, df in [('test', df_tot_test), ('control', df_tot_control)]:\n",
    "    \n",
    "    kde = gaussian_kde(df['client_age'])\n",
    "    x_range = np.arange(int(df['client_age'].min()), int(df['client_age'].max()) + 1, 0.1)\n",
    "    kde_values = kde(x_range)\n",
    "    kde_list_age[label] = pd.DataFrame({'age': x_range, 'kde': kde_values})\n",
    "\n",
    "# Concatenate the list of dataframes vertically\n",
    "kde_combined_df_age = pd.merge(kde_list_age['test'], kde_list_age['control'], on = 'age', how = 'inner')\n",
    "\n",
    "# Save the combined dataframe to a CSV\n",
    "kde_combined_df_age.to_csv('../data/clean/kde_combined_age.csv', index=False)\n",
    "kde_combined_df_age.head()"
   ]
  },
  {
   "cell_type": "code",
   "execution_count": 56,
   "id": "f58e8746",
   "metadata": {},
   "outputs": [
    {
     "data": {
      "image/png": "[encoded data removed]",
      "text/plain": [
       "<Figure size 640x480 with 1 Axes>"
      ]
     },
     "metadata": {},
     "output_type": "display_data"
    }
   ],
   "source": [
    "sns.histplot(df_tot_test['client_age'], bins = 30, kde = True, alpha = 1, label='Test', color='darkorange');\n",
    "sns.histplot(df_tot_control['client_age'], bins = 30, kde = True, alpha = 0.7, label='Control', color='gold');\n",
    "plt.legend(title = 'Group')\n",
    "plt.xlabel('Age');\n",
    "plt.savefig('../slides/plots/age_histogram.png', bbox_inches='tight')"
   ]
  },
  {
   "cell_type": "code",
   "execution_count": 109,
   "id": "520a84dd",
   "metadata": {},
   "outputs": [
    {
     "data": {
      "image/png": "[encoded data removed]",
      "text/plain": [
       "<Figure size 700x500 with 1 Axes>"
      ]
     },
     "metadata": {},
     "output_type": "display_data"
    }
   ],
   "source": [
    "plt.figure(figsize = (7, 5))\n",
    "plt.plot(kde_list_age['test']['age'], kde_list_age['test']['kde'], color='darkorange', label='Test', linewidth=2.5)\n",
    "plt.plot(kde_list_age['control']['age'], kde_list_age['control']['kde'], color='gold', label='Control', linewidth=2.5)\n",
    "plt.xlabel('Age')\n",
    "plt.ylabel('Normalized Age KDE')\n",
    "plt.legend(title = 'Group');\n",
    "plt.savefig('../slides/plots/age_kde.png', bbox_inches='tight')"
   ]
  },
  {
   "cell_type": "markdown",
   "id": "603eb03a",
   "metadata": {},
   "source": [
    "# Client Tenure"
   ]
  },
  {
   "cell_type": "code",
   "execution_count": 96,
   "id": "3eed1a95",
   "metadata": {},
   "outputs": [
    {
     "data": {
      "text/html": [
       "<div>\n",
       "<style scoped>\n",
       "    .dataframe tbody tr th:only-of-type {\n",
       "        vertical-align: middle;\n",
       "    }\n",
       "\n",
       "    .dataframe tbody tr th {\n",
       "        vertical-align: top;\n",
       "    }\n",
       "\n",
       "    .dataframe thead th {\n",
       "        text-align: right;\n",
       "    }\n",
       "</style>\n",
       "<table border=\"1\" class=\"dataframe\">\n",
       "  <thead>\n",
       "    <tr style=\"text-align: right;\">\n",
       "      <th></th>\n",
       "      <th>tenure</th>\n",
       "      <th>kde_x</th>\n",
       "      <th>kde_y</th>\n",
       "    </tr>\n",
       "  </thead>\n",
       "  <tbody>\n",
       "    <tr>\n",
       "      <th>0</th>\n",
       "      <td>2.0</td>\n",
       "      <td>0.004669</td>\n",
       "      <td>0.005067</td>\n",
       "    </tr>\n",
       "    <tr>\n",
       "      <th>1</th>\n",
       "      <td>2.1</td>\n",
       "      <td>0.005612</td>\n",
       "      <td>0.006043</td>\n",
       "    </tr>\n",
       "    <tr>\n",
       "      <th>2</th>\n",
       "      <td>2.2</td>\n",
       "      <td>0.006716</td>\n",
       "      <td>0.007175</td>\n",
       "    </tr>\n",
       "    <tr>\n",
       "      <th>3</th>\n",
       "      <td>2.3</td>\n",
       "      <td>0.008000</td>\n",
       "      <td>0.008477</td>\n",
       "    </tr>\n",
       "    <tr>\n",
       "      <th>4</th>\n",
       "      <td>2.4</td>\n",
       "      <td>0.009479</td>\n",
       "      <td>0.009964</td>\n",
       "    </tr>\n",
       "  </tbody>\n",
       "</table>\n",
       "</div>"
      ],
      "text/plain": [
       "   tenure     kde_x     kde_y\n",
       "0     2.0  0.004669  0.005067\n",
       "1     2.1  0.005612  0.006043\n",
       "2     2.2  0.006716  0.007175\n",
       "3     2.3  0.008000  0.008477\n",
       "4     2.4  0.009479  0.009964"
      ]
     },
     "execution_count": 96,
     "metadata": {},
     "output_type": "execute_result"
    }
   ],
   "source": [
    "kde_list_tenure = {}\n",
    "\n",
    "for label, df in [('test', df_tot_test), ('control', df_tot_control)]:\n",
    "    kde = gaussian_kde(df['client_tenure_year'])\n",
    "    x_range = np.arange(int(df['client_tenure_year'].min()), int(df['client_tenure_year'].max()) + 1, 0.1)\n",
    "    kde_values = kde(x_range)\n",
    "    kde_list_tenure[label] = pd.DataFrame({'tenure': x_range, 'kde': kde_values})\n",
    "\n",
    "# Concatenate the list of dataframes vertically\n",
    "kde_combined_df_tenure = pd.merge(kde_list_tenure['test'], kde_list_tenure['control'], on = 'tenure', how = 'inner')\n",
    "\n",
    "# Save the combined dataframe to a CSV\n",
    "kde_combined_df_tenure.to_csv('../data/clean/kde_combined_tenure.csv', index=False)\n",
    "kde_combined_df_tenure.head()"
   ]
  },
  {
   "cell_type": "code",
   "execution_count": 59,
   "id": "ebee11c7",
   "metadata": {},
   "outputs": [
    {
     "data": {
      "image/png": "[encoded data removed]",
      "text/plain": [
       "<Figure size 640x480 with 1 Axes>"
      ]
     },
     "metadata": {},
     "output_type": "display_data"
    }
   ],
   "source": [
    "sns.histplot(df_tot_test['client_tenure_year'], bins = 30, kde = True, alpha = 1, label='Test', color='darkorange');\n",
    "sns.histplot(df_tot_control['client_tenure_year'], bins = 30, kde = True, alpha = 0.7, label='Control', color='gold');\n",
    "plt.legend(title = 'Group')\n",
    "plt.xlabel('Tenure');\n",
    "plt.savefig('../slides/plots/tenure_histogram.png', bbox_inches='tight')"
   ]
  },
  {
   "cell_type": "code",
   "execution_count": 94,
   "id": "9307b2a0",
   "metadata": {},
   "outputs": [
    {
     "data": {
      "image/png": "[encoded data removed]",
      "text/plain": [
       "<Figure size 700x500 with 1 Axes>"
      ]
     },
     "metadata": {},
     "output_type": "display_data"
    }
   ],
   "source": [
    "plt.figure(figsize = (7, 5))\n",
    "plt.plot(kde_list_tenure['test']['tenure'], kde_list_tenure['test']['kde'], color='darkorange', label='Test', linewidth=2.5)\n",
    "plt.plot(kde_list_tenure['control']['tenure'], kde_list_tenure['control']['kde'], color='gold', label='Control', linewidth=2.5)\n",
    "plt.xlabel('Tenure')\n",
    "plt.ylabel('Normalized Tenure KDE')\n",
    "plt.legend(title = 'Group');\n",
    "plt.savefig('../slides/plots/tenure_kde.png', bbox_inches='tight')"
   ]
  },
  {
   "cell_type": "code",
   "execution_count": null,
   "id": "8f32c215",
   "metadata": {},
   "outputs": [],
   "source": []
  }
 ],
 "metadata": {
  "kernelspec": {
   "display_name": "venv",
   "language": "python",
   "name": "venv"
  },
  "language_info": {
   "codemirror_mode": {
    "name": "ipython",
    "version": 3
   },
   "file_extension": ".py",
   "mimetype": "text/x-python",
   "name": "python",
   "nbconvert_exporter": "python",
   "pygments_lexer": "ipython3",
   "version": "3.9.13"
  }
 },
 "nbformat": 4,
 "nbformat_minor": 5
}
