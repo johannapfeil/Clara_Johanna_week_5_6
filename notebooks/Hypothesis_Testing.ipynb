{
 "cells": [
  {
   "cell_type": "markdown",
   "id": "b978cc44",
   "metadata": {},
   "source": [
    "# Hypothesis Testing"
   ]
  },
  {
   "cell_type": "markdown",
   "id": "d3be8d69",
   "metadata": {},
   "source": [
    "## Completion Rate per Step"
   ]
  },
  {
   "cell_type": "markdown",
   "id": "e2eeac1f",
   "metadata": {},
   "source": [
    "Null Hypothesis: The completion rate for the Test group (new design) is equal to the completion rate for the Control group (old design)."
   ]
  },
  {
   "cell_type": "code",
   "execution_count": 8,
   "id": "cdf2d021",
   "metadata": {},
   "outputs": [],
   "source": [
    "import numpy as np\n",
    "import statsmodels.api as sm\n",
    "import pandas as pd"
   ]
  },
  {
   "cell_type": "code",
   "execution_count": 12,
   "id": "8be1f86e",
   "metadata": {},
   "outputs": [
    {
     "data": {
      "text/html": [
       "<div>\n",
       "<style scoped>\n",
       "    .dataframe tbody tr th:only-of-type {\n",
       "        vertical-align: middle;\n",
       "    }\n",
       "\n",
       "    .dataframe tbody tr th {\n",
       "        vertical-align: top;\n",
       "    }\n",
       "\n",
       "    .dataframe thead th {\n",
       "        text-align: right;\n",
       "    }\n",
       "</style>\n",
       "<table border=\"1\" class=\"dataframe\">\n",
       "  <thead>\n",
       "    <tr style=\"text-align: right;\">\n",
       "      <th></th>\n",
       "      <th>Unnamed: 0</th>\n",
       "      <th>client_id</th>\n",
       "      <th>visitor_id</th>\n",
       "      <th>visit_id</th>\n",
       "      <th>from_step</th>\n",
       "      <th>to_step</th>\n",
       "      <th>time_spent</th>\n",
       "      <th>is_error</th>\n",
       "    </tr>\n",
       "  </thead>\n",
       "  <tbody>\n",
       "    <tr>\n",
       "      <th>0</th>\n",
       "      <td>0</td>\n",
       "      <td>169</td>\n",
       "      <td>201385055_71273495308</td>\n",
       "      <td>749567106_99161211863_557568</td>\n",
       "      <td>start</td>\n",
       "      <td>step_1</td>\n",
       "      <td>0 days 00:00:09</td>\n",
       "      <td>False</td>\n",
       "    </tr>\n",
       "    <tr>\n",
       "      <th>1</th>\n",
       "      <td>1</td>\n",
       "      <td>169</td>\n",
       "      <td>201385055_71273495308</td>\n",
       "      <td>749567106_99161211863_557568</td>\n",
       "      <td>step_1</td>\n",
       "      <td>step_2</td>\n",
       "      <td>0 days 00:00:46</td>\n",
       "      <td>False</td>\n",
       "    </tr>\n",
       "    <tr>\n",
       "      <th>2</th>\n",
       "      <td>2</td>\n",
       "      <td>169</td>\n",
       "      <td>201385055_71273495308</td>\n",
       "      <td>749567106_99161211863_557568</td>\n",
       "      <td>step_2</td>\n",
       "      <td>step_3</td>\n",
       "      <td>0 days 00:01:34</td>\n",
       "      <td>False</td>\n",
       "    </tr>\n",
       "    <tr>\n",
       "      <th>3</th>\n",
       "      <td>3</td>\n",
       "      <td>169</td>\n",
       "      <td>201385055_71273495308</td>\n",
       "      <td>749567106_99161211863_557568</td>\n",
       "      <td>step_3</td>\n",
       "      <td>confirm</td>\n",
       "      <td>0 days 00:01:04</td>\n",
       "      <td>False</td>\n",
       "    </tr>\n",
       "    <tr>\n",
       "      <th>4</th>\n",
       "      <td>4</td>\n",
       "      <td>546</td>\n",
       "      <td>475037402_89828530214</td>\n",
       "      <td>731811517_9330176838_94847</td>\n",
       "      <td>start</td>\n",
       "      <td>step_1</td>\n",
       "      <td>0 days 00:00:10</td>\n",
       "      <td>False</td>\n",
       "    </tr>\n",
       "  </tbody>\n",
       "</table>\n",
       "</div>"
      ],
      "text/plain": [
       "   Unnamed: 0  client_id             visitor_id                      visit_id  \\\n",
       "0           0        169  201385055_71273495308  749567106_99161211863_557568   \n",
       "1           1        169  201385055_71273495308  749567106_99161211863_557568   \n",
       "2           2        169  201385055_71273495308  749567106_99161211863_557568   \n",
       "3           3        169  201385055_71273495308  749567106_99161211863_557568   \n",
       "4           4        546  475037402_89828530214    731811517_9330176838_94847   \n",
       "\n",
       "  from_step  to_step       time_spent  is_error  \n",
       "0     start   step_1  0 days 00:00:09     False  \n",
       "1    step_1   step_2  0 days 00:00:46     False  \n",
       "2    step_2   step_3  0 days 00:01:34     False  \n",
       "3    step_3  confirm  0 days 00:01:04     False  \n",
       "4     start   step_1  0 days 00:00:10     False  "
      ]
     },
     "execution_count": 12,
     "metadata": {},
     "output_type": "execute_result"
    }
   ],
   "source": [
    "# Read time spent csv files\n",
    "time_df = pd.read_csv('../data/clean/time_spent.csv')\n",
    "time_df.head()"
   ]
  },
  {
   "cell_type": "code",
   "execution_count": 6,
   "id": "491f5eaf",
   "metadata": {},
   "outputs": [
    {
     "name": "stdout",
     "output_type": "stream",
     "text": [
      "Z-statistic: 0.1526\n",
      "P-value: 0.8787\n",
      "Fail to reject the null hypothesis: No significant difference in completion rates.\n"
     ]
    }
   ],
   "source": [
    "completed = np.array([18285, 15211]) # test, control\n",
    "total = np.array([28581, 23800]) # test, control\n",
    "\n",
    "# perform Two-proportion Z test package\n",
    "z_stat, p_value = sm.stats.proportions_ztest(count, nobs)\n",
    "\n",
    "print(f\"Z-statistic: {z_stat:.4f}\")\n",
    "print(f\"P-value: {p_value:.4f}\")\n",
    "\n",
    "alpha = 0.05  # Significance level\n",
    "if p_value < alpha:\n",
    "    print(\"Reject the null hypothesis: There is a significant difference in completion rates.\")\n",
    "else:\n",
    "    print(\"Fail to reject the null hypothesis: No significant difference in completion rates.\")"
   ]
  },
  {
   "cell_type": "markdown",
   "id": "c57fe136",
   "metadata": {},
   "source": [
    "# Completion Rate with a cost-effectiveness threshold"
   ]
  },
  {
   "cell_type": "code",
   "execution_count": null,
   "id": "4d4be076",
   "metadata": {},
   "outputs": [],
   "source": [
    "completed = [18285, 15211]  # Number of participants who completed the test\n",
    "total = [28581, 23800] # Total number of participants\n",
    "\n",
    "# Perform the two-proportion z-test\n",
    "z_stat, p_value = proportions_ztest(completed, total)\n",
    "\n",
    "# Print results\n",
    "print(f\"Z-statistic: {z_stat:.4f}\")\n",
    "print(f\"P-value: {p_value:.4f}\")\n",
    "\n",
    "alpha = 0.05  # Significance level\n",
    "if p_value < alpha:\n",
    "    print(\"Reject the null hypothesis: There is a significant difference in completion rates.\")\n",
    "else:\n",
    "    print(\"Fail to reject the null hypothesis: No significant difference in completion rates.\")"
   ]
  }
 ],
 "metadata": {
  "kernelspec": {
   "display_name": "Python 3 (ipykernel)",
   "language": "python",
   "name": "python3"
  },
  "language_info": {
   "codemirror_mode": {
    "name": "ipython",
    "version": 3
   },
   "file_extension": ".py",
   "mimetype": "text/x-python",
   "name": "python",
   "nbconvert_exporter": "python",
   "pygments_lexer": "ipython3",
   "version": "3.9.13"
  }
 },
 "nbformat": 4,
 "nbformat_minor": 5
}
