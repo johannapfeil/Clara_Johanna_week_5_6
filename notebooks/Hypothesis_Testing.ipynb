{
 "cells": [
  {
   "cell_type": "markdown",
   "id": "b978cc44",
   "metadata": {},
   "source": [
    "# Hypothesis Testing\n",
    "\n",
    "We conduct a z test on proportions, and t test on continous variables."
   ]
  },
  {
   "cell_type": "markdown",
   "id": "d3be8d69",
   "metadata": {},
   "source": [
    "## Completion Rate"
   ]
  },
  {
   "cell_type": "markdown",
   "id": "e2eeac1f",
   "metadata": {},
   "source": [
    "Null Hypothesis: The completion rate for the Test group (new design) is equal to the completion rate for the Control group (old design).\n",
    "\n",
    "p_test = p_control"
   ]
  },
  {
   "cell_type": "code",
   "execution_count": 44,
   "id": "cdf2d021",
   "metadata": {},
   "outputs": [],
   "source": [
    "import numpy as np\n",
    "import statsmodels.api as sm\n",
    "import pandas as pd\n",
    "import scipy.stats as st"
   ]
  },
  {
   "cell_type": "code",
   "execution_count": 12,
   "id": "8be1f86e",
   "metadata": {},
   "outputs": [
    {
     "data": {
      "text/html": [
       "<div>\n",
       "<style scoped>\n",
       "    .dataframe tbody tr th:only-of-type {\n",
       "        vertical-align: middle;\n",
       "    }\n",
       "\n",
       "    .dataframe tbody tr th {\n",
       "        vertical-align: top;\n",
       "    }\n",
       "\n",
       "    .dataframe thead th {\n",
       "        text-align: right;\n",
       "    }\n",
       "</style>\n",
       "<table border=\"1\" class=\"dataframe\">\n",
       "  <thead>\n",
       "    <tr style=\"text-align: right;\">\n",
       "      <th></th>\n",
       "      <th>Unnamed: 0</th>\n",
       "      <th>client_id</th>\n",
       "      <th>visitor_id</th>\n",
       "      <th>visit_id</th>\n",
       "      <th>from_step</th>\n",
       "      <th>to_step</th>\n",
       "      <th>time_spent</th>\n",
       "      <th>is_error</th>\n",
       "    </tr>\n",
       "  </thead>\n",
       "  <tbody>\n",
       "    <tr>\n",
       "      <th>0</th>\n",
       "      <td>0</td>\n",
       "      <td>169</td>\n",
       "      <td>201385055_71273495308</td>\n",
       "      <td>749567106_99161211863_557568</td>\n",
       "      <td>start</td>\n",
       "      <td>step_1</td>\n",
       "      <td>0 days 00:00:09</td>\n",
       "      <td>False</td>\n",
       "    </tr>\n",
       "    <tr>\n",
       "      <th>1</th>\n",
       "      <td>1</td>\n",
       "      <td>169</td>\n",
       "      <td>201385055_71273495308</td>\n",
       "      <td>749567106_99161211863_557568</td>\n",
       "      <td>step_1</td>\n",
       "      <td>step_2</td>\n",
       "      <td>0 days 00:00:46</td>\n",
       "      <td>False</td>\n",
       "    </tr>\n",
       "    <tr>\n",
       "      <th>2</th>\n",
       "      <td>2</td>\n",
       "      <td>169</td>\n",
       "      <td>201385055_71273495308</td>\n",
       "      <td>749567106_99161211863_557568</td>\n",
       "      <td>step_2</td>\n",
       "      <td>step_3</td>\n",
       "      <td>0 days 00:01:34</td>\n",
       "      <td>False</td>\n",
       "    </tr>\n",
       "    <tr>\n",
       "      <th>3</th>\n",
       "      <td>3</td>\n",
       "      <td>169</td>\n",
       "      <td>201385055_71273495308</td>\n",
       "      <td>749567106_99161211863_557568</td>\n",
       "      <td>step_3</td>\n",
       "      <td>confirm</td>\n",
       "      <td>0 days 00:01:04</td>\n",
       "      <td>False</td>\n",
       "    </tr>\n",
       "    <tr>\n",
       "      <th>4</th>\n",
       "      <td>4</td>\n",
       "      <td>546</td>\n",
       "      <td>475037402_89828530214</td>\n",
       "      <td>731811517_9330176838_94847</td>\n",
       "      <td>start</td>\n",
       "      <td>step_1</td>\n",
       "      <td>0 days 00:00:10</td>\n",
       "      <td>False</td>\n",
       "    </tr>\n",
       "  </tbody>\n",
       "</table>\n",
       "</div>"
      ],
      "text/plain": [
       "   Unnamed: 0  client_id             visitor_id                      visit_id  \\\n",
       "0           0        169  201385055_71273495308  749567106_99161211863_557568   \n",
       "1           1        169  201385055_71273495308  749567106_99161211863_557568   \n",
       "2           2        169  201385055_71273495308  749567106_99161211863_557568   \n",
       "3           3        169  201385055_71273495308  749567106_99161211863_557568   \n",
       "4           4        546  475037402_89828530214    731811517_9330176838_94847   \n",
       "\n",
       "  from_step  to_step       time_spent  is_error  \n",
       "0     start   step_1  0 days 00:00:09     False  \n",
       "1    step_1   step_2  0 days 00:00:46     False  \n",
       "2    step_2   step_3  0 days 00:01:34     False  \n",
       "3    step_3  confirm  0 days 00:01:04     False  \n",
       "4     start   step_1  0 days 00:00:10     False  "
      ]
     },
     "execution_count": 12,
     "metadata": {},
     "output_type": "execute_result"
    }
   ],
   "source": [
    "# Read time spent csv files\n",
    "time_df = pd.read_csv('../data/clean/time_spent.csv')\n",
    "time_df.head()"
   ]
  },
  {
   "cell_type": "code",
   "execution_count": 25,
   "id": "d2e17dee",
   "metadata": {},
   "outputs": [
    {
     "data": {
      "text/plain": [
       "array([0.63983199, 0.6390535 ])"
      ]
     },
     "execution_count": 25,
     "metadata": {},
     "output_type": "execute_result"
    }
   ],
   "source": [
    "completed = np.array([18280, 15205]) # test, control\n",
    "total = np.array([28570, 23793]) # test, control\n",
    "\n",
    "completion_rate = completed / total\n",
    "completion_rate"
   ]
  },
  {
   "cell_type": "code",
   "execution_count": 26,
   "id": "491f5eaf",
   "metadata": {},
   "outputs": [
    {
     "name": "stdout",
     "output_type": "stream",
     "text": [
      "Z-statistic: 0.1526\n",
      "P-value: 0.8787\n",
      "Fail to reject the null hypothesis: No significant difference in completion rates.\n"
     ]
    }
   ],
   "source": [
    "# perform Two-proportion Z test package\n",
    "z_stat, p_value = sm.stats.proportions_ztest(count, nobs)\n",
    "\n",
    "print(f\"Z-statistic: {z_stat:.4f}\")\n",
    "print(f\"P-value: {p_value:.4f}\")\n",
    "\n",
    "alpha = 0.05  # Significance level\n",
    "if p_value < alpha:\n",
    "    print(\"Reject the null hypothesis: There is a significant difference in completion rates.\")\n",
    "else:\n",
    "    print(\"Fail to reject the null hypothesis: No significant difference in completion rates.\")"
   ]
  },
  {
   "cell_type": "markdown",
   "id": "c57fe136",
   "metadata": {},
   "source": [
    "# Completion Rate with a Cost-Effectiveness Threshold"
   ]
  },
  {
   "cell_type": "markdown",
   "id": "94e0e6ba",
   "metadata": {},
   "source": [
    "Null Hypothesis: The completion rate for the test group is equal to or greater than the completion rate for the control group increased by 5%.\n",
    "\n",
    "p_test >= p_control * 1.05\n",
    "\n",
    "Alternative Hypothesis: The completion rate for the test group is lower than the completion rate for the Control group increased by 5%.\n",
    "\n",
    "p_test < p_control * 1.05"
   ]
  },
  {
   "cell_type": "code",
   "execution_count": 28,
   "id": "03afe9a9",
   "metadata": {},
   "outputs": [
    {
     "data": {
      "text/plain": [
       "array([0.63983199, 0.67099567])"
      ]
     },
     "execution_count": 28,
     "metadata": {},
     "output_type": "execute_result"
    }
   ],
   "source": [
    "completed = np.array([18280, 15205]) # test, control\n",
    "total = np.array([28570, 23793]) # test, control\n",
    "\n",
    "completed[1] = round(completed[1] * 1.05)\n",
    "completion_rate = completed / total\n",
    "completion_rate"
   ]
  },
  {
   "cell_type": "code",
   "execution_count": 37,
   "id": "4d4be076",
   "metadata": {},
   "outputs": [
    {
     "name": "stdout",
     "output_type": "stream",
     "text": [
      "Z-statistic: -7.464264105798114\n",
      "P-value: 4.188321807812895e-14\n",
      "Reject the null hypothesis: The completion rate for the test group is lower than the completion rate for the control group increased by 5%.\n"
     ]
    }
   ],
   "source": [
    "# Perform the two-proportion z-test\n",
    "z_stat, p_value = proportions_ztest(completed, total, alternative='smaller')\n",
    "\n",
    "# Print results\n",
    "print(f\"Z-statistic:\", z_stat)\n",
    "print(f\"P-value:\", p_value)\n",
    "\n",
    "alpha = 0.05  # Significance level\n",
    "if p_value < alpha:\n",
    "    print(\"Reject the null hypothesis: The completion rate for the test group is lower than the completion rate for the control group increased by 5%.\")\n",
    "else:\n",
    "    print(\"Fail to reject the null hypothesis: No significant difference in completion rates.\")"
   ]
  },
  {
   "cell_type": "markdown",
   "id": "905202e2",
   "metadata": {},
   "source": [
    "# Age"
   ]
  },
  {
   "cell_type": "markdown",
   "id": "8d6c40f3",
   "metadata": {},
   "source": [
    "You might want to test whether the average age of clients engaging with the new process is the same as those engaging with the old process."
   ]
  },
  {
   "cell_type": "code",
   "execution_count": 41,
   "id": "1d950756",
   "metadata": {},
   "outputs": [
    {
     "data": {
      "text/html": [
       "<div>\n",
       "<style scoped>\n",
       "    .dataframe tbody tr th:only-of-type {\n",
       "        vertical-align: middle;\n",
       "    }\n",
       "\n",
       "    .dataframe tbody tr th {\n",
       "        vertical-align: top;\n",
       "    }\n",
       "\n",
       "    .dataframe thead th {\n",
       "        text-align: right;\n",
       "    }\n",
       "</style>\n",
       "<table border=\"1\" class=\"dataframe\">\n",
       "  <thead>\n",
       "    <tr style=\"text-align: right;\">\n",
       "      <th></th>\n",
       "      <th>client_id</th>\n",
       "      <th>Variation</th>\n",
       "      <th>client_tenure_year</th>\n",
       "      <th>client_tenure_month</th>\n",
       "      <th>client_age</th>\n",
       "      <th>gender</th>\n",
       "      <th>account_number</th>\n",
       "      <th>balance</th>\n",
       "      <th>calls_6_months</th>\n",
       "      <th>logons_6_months</th>\n",
       "    </tr>\n",
       "  </thead>\n",
       "  <tbody>\n",
       "    <tr>\n",
       "      <th>0</th>\n",
       "      <td>9988021</td>\n",
       "      <td>Test</td>\n",
       "      <td>5.0</td>\n",
       "      <td>64.0</td>\n",
       "      <td>79.0</td>\n",
       "      <td>U</td>\n",
       "      <td>2.0</td>\n",
       "      <td>189023.86</td>\n",
       "      <td>1.0</td>\n",
       "      <td>4.0</td>\n",
       "    </tr>\n",
       "    <tr>\n",
       "      <th>1</th>\n",
       "      <td>8320017</td>\n",
       "      <td>Test</td>\n",
       "      <td>22.0</td>\n",
       "      <td>274.0</td>\n",
       "      <td>34.5</td>\n",
       "      <td>M</td>\n",
       "      <td>2.0</td>\n",
       "      <td>36001.90</td>\n",
       "      <td>5.0</td>\n",
       "      <td>8.0</td>\n",
       "    </tr>\n",
       "    <tr>\n",
       "      <th>2</th>\n",
       "      <td>4033851</td>\n",
       "      <td>Control</td>\n",
       "      <td>12.0</td>\n",
       "      <td>149.0</td>\n",
       "      <td>63.5</td>\n",
       "      <td>M</td>\n",
       "      <td>2.0</td>\n",
       "      <td>142642.26</td>\n",
       "      <td>5.0</td>\n",
       "      <td>8.0</td>\n",
       "    </tr>\n",
       "    <tr>\n",
       "      <th>3</th>\n",
       "      <td>1982004</td>\n",
       "      <td>Test</td>\n",
       "      <td>6.0</td>\n",
       "      <td>80.0</td>\n",
       "      <td>44.5</td>\n",
       "      <td>U</td>\n",
       "      <td>2.0</td>\n",
       "      <td>30231.76</td>\n",
       "      <td>1.0</td>\n",
       "      <td>4.0</td>\n",
       "    </tr>\n",
       "    <tr>\n",
       "      <th>4</th>\n",
       "      <td>9294070</td>\n",
       "      <td>Control</td>\n",
       "      <td>5.0</td>\n",
       "      <td>70.0</td>\n",
       "      <td>29.0</td>\n",
       "      <td>U</td>\n",
       "      <td>2.0</td>\n",
       "      <td>34254.54</td>\n",
       "      <td>0.0</td>\n",
       "      <td>3.0</td>\n",
       "    </tr>\n",
       "    <tr>\n",
       "      <th>...</th>\n",
       "      <td>...</td>\n",
       "      <td>...</td>\n",
       "      <td>...</td>\n",
       "      <td>...</td>\n",
       "      <td>...</td>\n",
       "      <td>...</td>\n",
       "      <td>...</td>\n",
       "      <td>...</td>\n",
       "      <td>...</td>\n",
       "      <td>...</td>\n",
       "    </tr>\n",
       "    <tr>\n",
       "      <th>50482</th>\n",
       "      <td>393005</td>\n",
       "      <td>Control</td>\n",
       "      <td>15.0</td>\n",
       "      <td>191.0</td>\n",
       "      <td>52.5</td>\n",
       "      <td>M</td>\n",
       "      <td>2.0</td>\n",
       "      <td>60344.67</td>\n",
       "      <td>1.0</td>\n",
       "      <td>4.0</td>\n",
       "    </tr>\n",
       "    <tr>\n",
       "      <th>50483</th>\n",
       "      <td>2908510</td>\n",
       "      <td>Control</td>\n",
       "      <td>21.0</td>\n",
       "      <td>252.0</td>\n",
       "      <td>34.0</td>\n",
       "      <td>M</td>\n",
       "      <td>3.0</td>\n",
       "      <td>141808.05</td>\n",
       "      <td>6.0</td>\n",
       "      <td>9.0</td>\n",
       "    </tr>\n",
       "    <tr>\n",
       "      <th>50484</th>\n",
       "      <td>7230446</td>\n",
       "      <td>Test</td>\n",
       "      <td>6.0</td>\n",
       "      <td>74.0</td>\n",
       "      <td>62.0</td>\n",
       "      <td>M</td>\n",
       "      <td>2.0</td>\n",
       "      <td>58778.11</td>\n",
       "      <td>2.0</td>\n",
       "      <td>5.0</td>\n",
       "    </tr>\n",
       "    <tr>\n",
       "      <th>50485</th>\n",
       "      <td>5230357</td>\n",
       "      <td>Test</td>\n",
       "      <td>23.0</td>\n",
       "      <td>278.0</td>\n",
       "      <td>30.5</td>\n",
       "      <td>M</td>\n",
       "      <td>2.0</td>\n",
       "      <td>61349.70</td>\n",
       "      <td>0.0</td>\n",
       "      <td>3.0</td>\n",
       "    </tr>\n",
       "    <tr>\n",
       "      <th>50486</th>\n",
       "      <td>6334360</td>\n",
       "      <td>Test</td>\n",
       "      <td>4.0</td>\n",
       "      <td>53.0</td>\n",
       "      <td>66.5</td>\n",
       "      <td>U</td>\n",
       "      <td>2.0</td>\n",
       "      <td>93103.47</td>\n",
       "      <td>6.0</td>\n",
       "      <td>9.0</td>\n",
       "    </tr>\n",
       "  </tbody>\n",
       "</table>\n",
       "<p>50487 rows × 10 columns</p>\n",
       "</div>"
      ],
      "text/plain": [
       "       client_id Variation  client_tenure_year  client_tenure_month  \\\n",
       "0        9988021      Test                 5.0                 64.0   \n",
       "1        8320017      Test                22.0                274.0   \n",
       "2        4033851   Control                12.0                149.0   \n",
       "3        1982004      Test                 6.0                 80.0   \n",
       "4        9294070   Control                 5.0                 70.0   \n",
       "...          ...       ...                 ...                  ...   \n",
       "50482     393005   Control                15.0                191.0   \n",
       "50483    2908510   Control                21.0                252.0   \n",
       "50484    7230446      Test                 6.0                 74.0   \n",
       "50485    5230357      Test                23.0                278.0   \n",
       "50486    6334360      Test                 4.0                 53.0   \n",
       "\n",
       "       client_age gender  account_number    balance  calls_6_months  \\\n",
       "0            79.0      U             2.0  189023.86             1.0   \n",
       "1            34.5      M             2.0   36001.90             5.0   \n",
       "2            63.5      M             2.0  142642.26             5.0   \n",
       "3            44.5      U             2.0   30231.76             1.0   \n",
       "4            29.0      U             2.0   34254.54             0.0   \n",
       "...           ...    ...             ...        ...             ...   \n",
       "50482        52.5      M             2.0   60344.67             1.0   \n",
       "50483        34.0      M             3.0  141808.05             6.0   \n",
       "50484        62.0      M             2.0   58778.11             2.0   \n",
       "50485        30.5      M             2.0   61349.70             0.0   \n",
       "50486        66.5      U             2.0   93103.47             6.0   \n",
       "\n",
       "       logons_6_months  \n",
       "0                  4.0  \n",
       "1                  8.0  \n",
       "2                  8.0  \n",
       "3                  4.0  \n",
       "4                  3.0  \n",
       "...                ...  \n",
       "50482              4.0  \n",
       "50483              9.0  \n",
       "50484              5.0  \n",
       "50485              3.0  \n",
       "50486              9.0  \n",
       "\n",
       "[50487 rows x 10 columns]"
      ]
     },
     "execution_count": 41,
     "metadata": {},
     "output_type": "execute_result"
    }
   ],
   "source": [
    "test = pd.read_csv('../data/clean/client_id_test.csv')\n",
    "control = pd.read_csv('../data/clean/client_id_control.csv')\n",
    "info = pd.read_csv('../data/clean/total_client_info.csv')\n",
    "info"
   ]
  },
  {
   "cell_type": "markdown",
   "id": "ad12c601",
   "metadata": {},
   "source": [
    "## Mean Ages"
   ]
  },
  {
   "cell_type": "code",
   "execution_count": 56,
   "id": "95ff8bff",
   "metadata": {},
   "outputs": [
    {
     "name": "stdout",
     "output_type": "stream",
     "text": [
      "Mean client age test group: 47.164\n",
      "Mean client age control group: 47.498\n"
     ]
    }
   ],
   "source": [
    "info_test = round(info[info['Variation'] == 'Test']['client_age'].mean(), 3)\n",
    "info_control = round(info[info['Variation'] == 'Control']['client_age'].mean(), 3)\n",
    "print('Mean client age test group:', info_test)\n",
    "print('Mean client age control group:', info_control)"
   ]
  },
  {
   "cell_type": "code",
   "execution_count": 49,
   "id": "9f5d32c0",
   "metadata": {},
   "outputs": [
    {
     "name": "stdout",
     "output_type": "stream",
     "text": [
      "t_stat, p_value: -2.42 0.01569\n",
      "We succesfully reject the null hypothesis: Clients in the control group are older on average.\n"
     ]
    }
   ],
   "source": [
    "info_test = info[info['Variation'] == 'Test']['client_age']\n",
    "info_control = info[info['Variation'] == 'Control']['client_age']\n",
    "t_stat, p_value = st.ttest_ind(info_test, info_control, alternative = 'two-sided', equal_var = False)\n",
    "\n",
    "print('t_stat, p_value:', round(t_stat, 2), round(p_value, 5))\n",
    "if p_value < alpha:\n",
    "    print('We succesfully reject the null hypothesis: Clients in the control group are older on average.')\n",
    "else: \n",
    "    print('We fail to reject the null hypothesis.')"
   ]
  },
  {
   "cell_type": "markdown",
   "id": "fd1fbc7a",
   "metadata": {},
   "source": [
    "# Tenure"
   ]
  },
  {
   "cell_type": "markdown",
   "id": "f63730d5",
   "metadata": {},
   "source": [
    "## Mean Tenure"
   ]
  },
  {
   "cell_type": "code",
   "execution_count": 57,
   "id": "e044233f",
   "metadata": {},
   "outputs": [
    {
     "name": "stdout",
     "output_type": "stream",
     "text": [
      "Mean client age test group: 11.983\n",
      "Mean client age control group: 12.088\n"
     ]
    }
   ],
   "source": [
    "info_test = round(info[info['Variation'] == 'Test']['client_tenure_year'].mean(), 3)\n",
    "info_control = round(info[info['Variation'] == 'Control']['client_tenure_year'].mean(), 3)\n",
    "print('Mean client tenure test group:', info_test)\n",
    "print('Mean client tenure control group:', info_control)"
   ]
  },
  {
   "cell_type": "code",
   "execution_count": 53,
   "id": "426a08ac",
   "metadata": {},
   "outputs": [
    {
     "name": "stdout",
     "output_type": "stream",
     "text": [
      "t_stat, p_value: -1.71 0.08647\n",
      "We fail to reject the null hypothesis.\n"
     ]
    }
   ],
   "source": [
    "info_test = info[info['Variation'] == 'Test']['client_tenure_year']\n",
    "info_control = info[info['Variation'] == 'Control']['client_tenure_year']\n",
    "t_stat, p_value = st.ttest_ind(info_test, info_control, alternative = 'two-sided', equal_var = False)\n",
    "\n",
    "print('t_stat, p_value:', round(t_stat, 2), round(p_value, 5))\n",
    "if p_value < alpha:\n",
    "    print('We succesfully reject the null hypothesis: Clients in the control group have been with Vanguard for more years.')\n",
    "else: \n",
    "    print('We fail to reject the null hypothesis.')"
   ]
  },
  {
   "cell_type": "code",
   "execution_count": null,
   "id": "fbc40dfe",
   "metadata": {},
   "outputs": [],
   "source": []
  }
 ],
 "metadata": {
  "kernelspec": {
   "display_name": "Python 3 (ipykernel)",
   "language": "python",
   "name": "python3"
  },
  "language_info": {
   "codemirror_mode": {
    "name": "ipython",
    "version": 3
   },
   "file_extension": ".py",
   "mimetype": "text/x-python",
   "name": "python",
   "nbconvert_exporter": "python",
   "pygments_lexer": "ipython3",
   "version": "3.9.13"
  }
 },
 "nbformat": 4,
 "nbformat_minor": 5
}
