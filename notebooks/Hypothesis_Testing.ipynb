{
 "cells": [
  {
   "cell_type": "markdown",
   "id": "94263046",
   "metadata": {},
   "source": [
    "# Hypothesis Testing"
   ]
  },
  {
   "cell_type": "markdown",
   "id": "102fc491",
   "metadata": {},
   "source": [
    "## Completion Rate per Step"
   ]
  },
  {
   "cell_type": "markdown",
   "id": "ce7b09dc",
   "metadata": {},
   "source": [
    "Null Hypothesis: The completion rate for the Test group (new design) is equal to the completion rate for the Control group (old design)."
   ]
  },
  {
   "cell_type": "code",
   "execution_count": 2,
   "id": "dec8ea8f",
   "metadata": {},
   "outputs": [],
   "source": [
    "import numpy as np\n",
    "import statsmodels.api as sm"
   ]
  },
  {
   "cell_type": "code",
   "execution_count": 5,
   "id": "a7f58c2d",
   "metadata": {},
   "outputs": [],
   "source": [
    "# Read time spent csv files"
   ]
  },
  {
   "cell_type": "code",
   "execution_count": 6,
   "id": "eb9b1f25",
   "metadata": {},
   "outputs": [
    {
     "name": "stdout",
     "output_type": "stream",
     "text": [
      "Z-statistic: 0.1526\n",
      "P-value: 0.8787\n",
      "Fail to reject the null hypothesis: No significant difference in completion rates.\n"
     ]
    }
   ],
   "source": [
    "completed = np.array([18285, 15211]) # test, control\n",
    "total = np.array([28581, 23800]) # test, control\n",
    "\n",
    "# perform Two-proportion Z test package\n",
    "z_stat, p_value = sm.stats.proportions_ztest(count, nobs)\n",
    "\n",
    "print(f\"Z-statistic: {z_stat:.4f}\")\n",
    "print(f\"P-value: {p_value:.4f}\")\n",
    "\n",
    "alpha = 0.05  # Significance level\n",
    "if p_value < alpha:\n",
    "    print(\"Reject the null hypothesis: There is a significant difference in completion rates.\")\n",
    "else:\n",
    "    print(\"Fail to reject the null hypothesis: No significant difference in completion rates.\")"
   ]
  },
  {
   "cell_type": "markdown",
   "id": "afcffd46",
   "metadata": {},
   "source": [
    "# Completion Rate with a cost-effectiveness threshold"
   ]
  },
  {
   "cell_type": "code",
   "execution_count": null,
   "id": "aff193b0",
   "metadata": {},
   "outputs": [],
   "source": [
    "completed = [18285, 15211]  # Number of participants who completed the test\n",
    "total = [28581, 23800] # Total number of participants\n",
    "\n",
    "# Perform the two-proportion z-test\n",
    "z_stat, p_value = proportions_ztest(completed, total)\n",
    "\n",
    "# Print results\n",
    "print(f\"Z-statistic: {z_stat:.4f}\")\n",
    "print(f\"P-value: {p_value:.4f}\")\n",
    "\n",
    "alpha = 0.05  # Significance level\n",
    "if p_value < alpha:\n",
    "    print(\"Reject the null hypothesis: There is a significant difference in completion rates.\")\n",
    "else:\n",
    "    print(\"Fail to reject the null hypothesis: No significant difference in completion rates.\")"
   ]
  }
 ],
 "metadata": {
  "kernelspec": {
   "display_name": "Python 3 (ipykernel)",
   "language": "python",
   "name": "python3"
  },
  "language_info": {
   "codemirror_mode": {
    "name": "ipython",
    "version": 3
   },
   "file_extension": ".py",
   "mimetype": "text/x-python",
   "name": "python",
   "nbconvert_exporter": "python",
   "pygments_lexer": "ipython3",
   "version": "3.9.13"
  }
 },
 "nbformat": 4,
 "nbformat_minor": 5
}
